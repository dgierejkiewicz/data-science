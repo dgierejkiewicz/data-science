{
  "nbformat": 4,
  "nbformat_minor": 0,
  "metadata": {
    "colab": {
      "name": "dane_gieldowe.ipynb",
      "provenance": [],
      "authorship_tag": "ABX9TyNX6/xd2RLpGtUyMpGD+DYW",
      "include_colab_link": true
    },
    "kernelspec": {
      "name": "python3",
      "display_name": "Python 3"
    }
  },
  "cells": [
    {
      "cell_type": "markdown",
      "metadata": {
        "id": "view-in-github",
        "colab_type": "text"
      },
      "source": [
        "<a href=\"https://colab.research.google.com/github/dgierejkiewicz/data-science/blob/master/dane_gieldowe.ipynb\" target=\"_parent\"><img src=\"https://colab.research.google.com/assets/colab-badge.svg\" alt=\"Open In Colab\"/></a>"
      ]
    },
    {
      "cell_type": "code",
      "metadata": {
        "id": "tKJhX4Irt2Nm",
        "colab_type": "code",
        "colab": {
          "base_uri": "https://localhost:8080/",
          "height": 52
        },
        "outputId": "06806260-f7fb-4940-8051-95e7ab24e082"
      },
      "source": [
        "import pandas as pd\n",
        "import numpy as np\n",
        "\n",
        "print(f'Numpy: {np.__version__}')\n",
        "print(f'Pandas: {pd.__version__}')"
      ],
      "execution_count": 2,
      "outputs": [
        {
          "output_type": "stream",
          "text": [
            "Numpy: 1.18.5\n",
            "Pandas: 1.0.5\n"
          ],
          "name": "stdout"
        }
      ]
    },
    {
      "cell_type": "code",
      "metadata": {
        "id": "0vz5AnTkuIOf",
        "colab_type": "code",
        "colab": {
          "base_uri": "https://localhost:8080/",
          "height": 278
        },
        "outputId": "d8425fdb-7a02-4997-f868-e13c53996507"
      },
      "source": [
        "def fetch_stock_data(company='AMZN'):\n",
        "  \"\"\"Pobranie danych dotyczących notowań spółek na giełdzie wg symboli\n",
        "  w serwisie stooq.pl\"\"\" \n",
        "  import pandas_datareader.data as web\n",
        "  return web.DataReader(name=company, data_source='stooq')\n",
        "df = fetch_stock_data()\n",
        "df.info"
      ],
      "execution_count": 10,
      "outputs": [
        {
          "output_type": "execute_result",
          "data": {
            "text/plain": [
              "<bound method DataFrame.info of                Open       High      Low    Close   Volume\n",
              "Date                                                     \n",
              "2020-08-03  3180.51  3184.0000  3104.00  3111.89  5074663\n",
              "2020-07-31  3244.00  3246.8200  3151.00  3164.68  8083369\n",
              "2020-07-30  3014.00  3092.0000  3005.00  3051.88  6128265\n",
              "2020-07-29  3030.99  3039.1592  2996.77  3033.53  2974060\n",
              "2020-07-28  3054.27  3077.0926  2995.76  3000.33  3126651\n",
              "...             ...        ...      ...      ...      ...\n",
              "2015-08-12   523.75   527.5000   513.06   525.91  4014600\n",
              "2015-08-11   523.65   528.9800   522.00   527.46  2676051\n",
              "2015-08-10   528.52   532.2800   523.00   524.00  2615900\n",
              "2015-08-07   529.16   529.4600   518.21   522.62  3969200\n",
              "2015-08-06   539.30   542.7400   527.52   529.46  3817004\n",
              "\n",
              "[1257 rows x 5 columns]>"
            ]
          },
          "metadata": {
            "tags": []
          },
          "execution_count": 10
        }
      ]
    },
    {
      "cell_type": "code",
      "metadata": {
        "id": "iURWaWgMv5B0",
        "colab_type": "code",
        "colab": {
          "base_uri": "https://localhost:8080/",
          "height": 225
        },
        "outputId": "2aab13c5-97a4-49d1-8354-33868ebc0af1"
      },
      "source": [
        "df.info()"
      ],
      "execution_count": 11,
      "outputs": [
        {
          "output_type": "stream",
          "text": [
            "<class 'pandas.core.frame.DataFrame'>\n",
            "DatetimeIndex: 1257 entries, 2020-08-03 to 2015-08-06\n",
            "Data columns (total 5 columns):\n",
            " #   Column  Non-Null Count  Dtype  \n",
            "---  ------  --------------  -----  \n",
            " 0   Open    1257 non-null   float64\n",
            " 1   High    1257 non-null   float64\n",
            " 2   Low     1257 non-null   float64\n",
            " 3   Close   1257 non-null   float64\n",
            " 4   Volume  1257 non-null   int64  \n",
            "dtypes: float64(4), int64(1)\n",
            "memory usage: 58.9 KB\n"
          ],
          "name": "stdout"
        }
      ]
    },
    {
      "cell_type": "code",
      "metadata": {
        "id": "5nZ6EwVd9vKL",
        "colab_type": "code",
        "colab": {
          "base_uri": "https://localhost:8080/",
          "height": 455
        },
        "outputId": "0bba3871-f0a7-4e24-a91e-7cdce517ac56"
      },
      "source": [
        "df"
      ],
      "execution_count": 12,
      "outputs": [
        {
          "output_type": "execute_result",
          "data": {
            "text/html": [
              "<div>\n",
              "<style scoped>\n",
              "    .dataframe tbody tr th:only-of-type {\n",
              "        vertical-align: middle;\n",
              "    }\n",
              "\n",
              "    .dataframe tbody tr th {\n",
              "        vertical-align: top;\n",
              "    }\n",
              "\n",
              "    .dataframe thead th {\n",
              "        text-align: right;\n",
              "    }\n",
              "</style>\n",
              "<table border=\"1\" class=\"dataframe\">\n",
              "  <thead>\n",
              "    <tr style=\"text-align: right;\">\n",
              "      <th></th>\n",
              "      <th>Open</th>\n",
              "      <th>High</th>\n",
              "      <th>Low</th>\n",
              "      <th>Close</th>\n",
              "      <th>Volume</th>\n",
              "    </tr>\n",
              "    <tr>\n",
              "      <th>Date</th>\n",
              "      <th></th>\n",
              "      <th></th>\n",
              "      <th></th>\n",
              "      <th></th>\n",
              "      <th></th>\n",
              "    </tr>\n",
              "  </thead>\n",
              "  <tbody>\n",
              "    <tr>\n",
              "      <th>2020-08-03</th>\n",
              "      <td>3180.51</td>\n",
              "      <td>3184.0000</td>\n",
              "      <td>3104.00</td>\n",
              "      <td>3111.89</td>\n",
              "      <td>5074663</td>\n",
              "    </tr>\n",
              "    <tr>\n",
              "      <th>2020-07-31</th>\n",
              "      <td>3244.00</td>\n",
              "      <td>3246.8200</td>\n",
              "      <td>3151.00</td>\n",
              "      <td>3164.68</td>\n",
              "      <td>8083369</td>\n",
              "    </tr>\n",
              "    <tr>\n",
              "      <th>2020-07-30</th>\n",
              "      <td>3014.00</td>\n",
              "      <td>3092.0000</td>\n",
              "      <td>3005.00</td>\n",
              "      <td>3051.88</td>\n",
              "      <td>6128265</td>\n",
              "    </tr>\n",
              "    <tr>\n",
              "      <th>2020-07-29</th>\n",
              "      <td>3030.99</td>\n",
              "      <td>3039.1592</td>\n",
              "      <td>2996.77</td>\n",
              "      <td>3033.53</td>\n",
              "      <td>2974060</td>\n",
              "    </tr>\n",
              "    <tr>\n",
              "      <th>2020-07-28</th>\n",
              "      <td>3054.27</td>\n",
              "      <td>3077.0926</td>\n",
              "      <td>2995.76</td>\n",
              "      <td>3000.33</td>\n",
              "      <td>3126651</td>\n",
              "    </tr>\n",
              "    <tr>\n",
              "      <th>...</th>\n",
              "      <td>...</td>\n",
              "      <td>...</td>\n",
              "      <td>...</td>\n",
              "      <td>...</td>\n",
              "      <td>...</td>\n",
              "    </tr>\n",
              "    <tr>\n",
              "      <th>2015-08-12</th>\n",
              "      <td>523.75</td>\n",
              "      <td>527.5000</td>\n",
              "      <td>513.06</td>\n",
              "      <td>525.91</td>\n",
              "      <td>4014600</td>\n",
              "    </tr>\n",
              "    <tr>\n",
              "      <th>2015-08-11</th>\n",
              "      <td>523.65</td>\n",
              "      <td>528.9800</td>\n",
              "      <td>522.00</td>\n",
              "      <td>527.46</td>\n",
              "      <td>2676051</td>\n",
              "    </tr>\n",
              "    <tr>\n",
              "      <th>2015-08-10</th>\n",
              "      <td>528.52</td>\n",
              "      <td>532.2800</td>\n",
              "      <td>523.00</td>\n",
              "      <td>524.00</td>\n",
              "      <td>2615900</td>\n",
              "    </tr>\n",
              "    <tr>\n",
              "      <th>2015-08-07</th>\n",
              "      <td>529.16</td>\n",
              "      <td>529.4600</td>\n",
              "      <td>518.21</td>\n",
              "      <td>522.62</td>\n",
              "      <td>3969200</td>\n",
              "    </tr>\n",
              "    <tr>\n",
              "      <th>2015-08-06</th>\n",
              "      <td>539.30</td>\n",
              "      <td>542.7400</td>\n",
              "      <td>527.52</td>\n",
              "      <td>529.46</td>\n",
              "      <td>3817004</td>\n",
              "    </tr>\n",
              "  </tbody>\n",
              "</table>\n",
              "<p>1257 rows × 5 columns</p>\n",
              "</div>"
            ],
            "text/plain": [
              "               Open       High      Low    Close   Volume\n",
              "Date                                                     \n",
              "2020-08-03  3180.51  3184.0000  3104.00  3111.89  5074663\n",
              "2020-07-31  3244.00  3246.8200  3151.00  3164.68  8083369\n",
              "2020-07-30  3014.00  3092.0000  3005.00  3051.88  6128265\n",
              "2020-07-29  3030.99  3039.1592  2996.77  3033.53  2974060\n",
              "2020-07-28  3054.27  3077.0926  2995.76  3000.33  3126651\n",
              "...             ...        ...      ...      ...      ...\n",
              "2015-08-12   523.75   527.5000   513.06   525.91  4014600\n",
              "2015-08-11   523.65   528.9800   522.00   527.46  2676051\n",
              "2015-08-10   528.52   532.2800   523.00   524.00  2615900\n",
              "2015-08-07   529.16   529.4600   518.21   522.62  3969200\n",
              "2015-08-06   539.30   542.7400   527.52   529.46  3817004\n",
              "\n",
              "[1257 rows x 5 columns]"
            ]
          },
          "metadata": {
            "tags": []
          },
          "execution_count": 12
        }
      ]
    },
    {
      "cell_type": "code",
      "metadata": {
        "id": "wz2wjKV094Ex",
        "colab_type": "code",
        "colab": {
          "base_uri": "https://localhost:8080/",
          "height": 395
        },
        "outputId": "a22dc85d-2032-46ec-ceef-fc5f24f9d482"
      },
      "source": [
        "df.head(10)"
      ],
      "execution_count": 15,
      "outputs": [
        {
          "output_type": "execute_result",
          "data": {
            "text/html": [
              "<div>\n",
              "<style scoped>\n",
              "    .dataframe tbody tr th:only-of-type {\n",
              "        vertical-align: middle;\n",
              "    }\n",
              "\n",
              "    .dataframe tbody tr th {\n",
              "        vertical-align: top;\n",
              "    }\n",
              "\n",
              "    .dataframe thead th {\n",
              "        text-align: right;\n",
              "    }\n",
              "</style>\n",
              "<table border=\"1\" class=\"dataframe\">\n",
              "  <thead>\n",
              "    <tr style=\"text-align: right;\">\n",
              "      <th></th>\n",
              "      <th>Open</th>\n",
              "      <th>High</th>\n",
              "      <th>Low</th>\n",
              "      <th>Close</th>\n",
              "      <th>Volume</th>\n",
              "    </tr>\n",
              "    <tr>\n",
              "      <th>Date</th>\n",
              "      <th></th>\n",
              "      <th></th>\n",
              "      <th></th>\n",
              "      <th></th>\n",
              "      <th></th>\n",
              "    </tr>\n",
              "  </thead>\n",
              "  <tbody>\n",
              "    <tr>\n",
              "      <th>2020-08-03</th>\n",
              "      <td>3180.5100</td>\n",
              "      <td>3184.0000</td>\n",
              "      <td>3104.00</td>\n",
              "      <td>3111.89</td>\n",
              "      <td>5074663</td>\n",
              "    </tr>\n",
              "    <tr>\n",
              "      <th>2020-07-31</th>\n",
              "      <td>3244.0000</td>\n",
              "      <td>3246.8200</td>\n",
              "      <td>3151.00</td>\n",
              "      <td>3164.68</td>\n",
              "      <td>8083369</td>\n",
              "    </tr>\n",
              "    <tr>\n",
              "      <th>2020-07-30</th>\n",
              "      <td>3014.0000</td>\n",
              "      <td>3092.0000</td>\n",
              "      <td>3005.00</td>\n",
              "      <td>3051.88</td>\n",
              "      <td>6128265</td>\n",
              "    </tr>\n",
              "    <tr>\n",
              "      <th>2020-07-29</th>\n",
              "      <td>3030.9900</td>\n",
              "      <td>3039.1592</td>\n",
              "      <td>2996.77</td>\n",
              "      <td>3033.53</td>\n",
              "      <td>2974060</td>\n",
              "    </tr>\n",
              "    <tr>\n",
              "      <th>2020-07-28</th>\n",
              "      <td>3054.2700</td>\n",
              "      <td>3077.0926</td>\n",
              "      <td>2995.76</td>\n",
              "      <td>3000.33</td>\n",
              "      <td>3126651</td>\n",
              "    </tr>\n",
              "    <tr>\n",
              "      <th>2020-07-27</th>\n",
              "      <td>3062.0000</td>\n",
              "      <td>3098.0000</td>\n",
              "      <td>3015.77</td>\n",
              "      <td>3055.21</td>\n",
              "      <td>4170492</td>\n",
              "    </tr>\n",
              "    <tr>\n",
              "      <th>2020-07-24</th>\n",
              "      <td>2930.0000</td>\n",
              "      <td>3031.5800</td>\n",
              "      <td>2888.00</td>\n",
              "      <td>3008.91</td>\n",
              "      <td>5632413</td>\n",
              "    </tr>\n",
              "    <tr>\n",
              "      <th>2020-07-23</th>\n",
              "      <td>3098.2713</td>\n",
              "      <td>3098.2713</td>\n",
              "      <td>2970.00</td>\n",
              "      <td>2986.55</td>\n",
              "      <td>5656906</td>\n",
              "    </tr>\n",
              "    <tr>\n",
              "      <th>2020-07-22</th>\n",
              "      <td>3125.0000</td>\n",
              "      <td>3149.9999</td>\n",
              "      <td>3065.26</td>\n",
              "      <td>3099.91</td>\n",
              "      <td>4104225</td>\n",
              "    </tr>\n",
              "    <tr>\n",
              "      <th>2020-07-21</th>\n",
              "      <td>3232.4900</td>\n",
              "      <td>3240.5758</td>\n",
              "      <td>3105.72</td>\n",
              "      <td>3138.29</td>\n",
              "      <td>6134965</td>\n",
              "    </tr>\n",
              "  </tbody>\n",
              "</table>\n",
              "</div>"
            ],
            "text/plain": [
              "                 Open       High      Low    Close   Volume\n",
              "Date                                                       \n",
              "2020-08-03  3180.5100  3184.0000  3104.00  3111.89  5074663\n",
              "2020-07-31  3244.0000  3246.8200  3151.00  3164.68  8083369\n",
              "2020-07-30  3014.0000  3092.0000  3005.00  3051.88  6128265\n",
              "2020-07-29  3030.9900  3039.1592  2996.77  3033.53  2974060\n",
              "2020-07-28  3054.2700  3077.0926  2995.76  3000.33  3126651\n",
              "2020-07-27  3062.0000  3098.0000  3015.77  3055.21  4170492\n",
              "2020-07-24  2930.0000  3031.5800  2888.00  3008.91  5632413\n",
              "2020-07-23  3098.2713  3098.2713  2970.00  2986.55  5656906\n",
              "2020-07-22  3125.0000  3149.9999  3065.26  3099.91  4104225\n",
              "2020-07-21  3232.4900  3240.5758  3105.72  3138.29  6134965"
            ]
          },
          "metadata": {
            "tags": []
          },
          "execution_count": 15
        }
      ]
    },
    {
      "cell_type": "code",
      "metadata": {
        "id": "3IAi-cbT-WPB",
        "colab_type": "code",
        "colab": {
          "base_uri": "https://localhost:8080/",
          "height": 395
        },
        "outputId": "000bfa7f-72b7-4a44-df4f-e049698378b5"
      },
      "source": [
        "df.tail(10)"
      ],
      "execution_count": 17,
      "outputs": [
        {
          "output_type": "execute_result",
          "data": {
            "text/html": [
              "<div>\n",
              "<style scoped>\n",
              "    .dataframe tbody tr th:only-of-type {\n",
              "        vertical-align: middle;\n",
              "    }\n",
              "\n",
              "    .dataframe tbody tr th {\n",
              "        vertical-align: top;\n",
              "    }\n",
              "\n",
              "    .dataframe thead th {\n",
              "        text-align: right;\n",
              "    }\n",
              "</style>\n",
              "<table border=\"1\" class=\"dataframe\">\n",
              "  <thead>\n",
              "    <tr style=\"text-align: right;\">\n",
              "      <th></th>\n",
              "      <th>Open</th>\n",
              "      <th>High</th>\n",
              "      <th>Low</th>\n",
              "      <th>Close</th>\n",
              "      <th>Volume</th>\n",
              "    </tr>\n",
              "    <tr>\n",
              "      <th>Date</th>\n",
              "      <th></th>\n",
              "      <th></th>\n",
              "      <th></th>\n",
              "      <th></th>\n",
              "      <th></th>\n",
              "    </tr>\n",
              "  </thead>\n",
              "  <tbody>\n",
              "    <tr>\n",
              "      <th>2015-08-19</th>\n",
              "      <td>533.74</td>\n",
              "      <td>537.25</td>\n",
              "      <td>529.00</td>\n",
              "      <td>532.92</td>\n",
              "      <td>2324000</td>\n",
              "    </tr>\n",
              "    <tr>\n",
              "      <th>2015-08-18</th>\n",
              "      <td>535.04</td>\n",
              "      <td>539.49</td>\n",
              "      <td>533.00</td>\n",
              "      <td>535.02</td>\n",
              "      <td>2071300</td>\n",
              "    </tr>\n",
              "    <tr>\n",
              "      <th>2015-08-17</th>\n",
              "      <td>531.29</td>\n",
              "      <td>538.74</td>\n",
              "      <td>527.12</td>\n",
              "      <td>535.22</td>\n",
              "      <td>2581600</td>\n",
              "    </tr>\n",
              "    <tr>\n",
              "      <th>2015-08-14</th>\n",
              "      <td>528.25</td>\n",
              "      <td>534.11</td>\n",
              "      <td>528.25</td>\n",
              "      <td>531.52</td>\n",
              "      <td>1994700</td>\n",
              "    </tr>\n",
              "    <tr>\n",
              "      <th>2015-08-13</th>\n",
              "      <td>527.37</td>\n",
              "      <td>534.66</td>\n",
              "      <td>525.48</td>\n",
              "      <td>529.66</td>\n",
              "      <td>2895200</td>\n",
              "    </tr>\n",
              "    <tr>\n",
              "      <th>2015-08-12</th>\n",
              "      <td>523.75</td>\n",
              "      <td>527.50</td>\n",
              "      <td>513.06</td>\n",
              "      <td>525.91</td>\n",
              "      <td>4014600</td>\n",
              "    </tr>\n",
              "    <tr>\n",
              "      <th>2015-08-11</th>\n",
              "      <td>523.65</td>\n",
              "      <td>528.98</td>\n",
              "      <td>522.00</td>\n",
              "      <td>527.46</td>\n",
              "      <td>2676051</td>\n",
              "    </tr>\n",
              "    <tr>\n",
              "      <th>2015-08-10</th>\n",
              "      <td>528.52</td>\n",
              "      <td>532.28</td>\n",
              "      <td>523.00</td>\n",
              "      <td>524.00</td>\n",
              "      <td>2615900</td>\n",
              "    </tr>\n",
              "    <tr>\n",
              "      <th>2015-08-07</th>\n",
              "      <td>529.16</td>\n",
              "      <td>529.46</td>\n",
              "      <td>518.21</td>\n",
              "      <td>522.62</td>\n",
              "      <td>3969200</td>\n",
              "    </tr>\n",
              "    <tr>\n",
              "      <th>2015-08-06</th>\n",
              "      <td>539.30</td>\n",
              "      <td>542.74</td>\n",
              "      <td>527.52</td>\n",
              "      <td>529.46</td>\n",
              "      <td>3817004</td>\n",
              "    </tr>\n",
              "  </tbody>\n",
              "</table>\n",
              "</div>"
            ],
            "text/plain": [
              "              Open    High     Low   Close   Volume\n",
              "Date                                               \n",
              "2015-08-19  533.74  537.25  529.00  532.92  2324000\n",
              "2015-08-18  535.04  539.49  533.00  535.02  2071300\n",
              "2015-08-17  531.29  538.74  527.12  535.22  2581600\n",
              "2015-08-14  528.25  534.11  528.25  531.52  1994700\n",
              "2015-08-13  527.37  534.66  525.48  529.66  2895200\n",
              "2015-08-12  523.75  527.50  513.06  525.91  4014600\n",
              "2015-08-11  523.65  528.98  522.00  527.46  2676051\n",
              "2015-08-10  528.52  532.28  523.00  524.00  2615900\n",
              "2015-08-07  529.16  529.46  518.21  522.62  3969200\n",
              "2015-08-06  539.30  542.74  527.52  529.46  3817004"
            ]
          },
          "metadata": {
            "tags": []
          },
          "execution_count": 17
        }
      ]
    },
    {
      "cell_type": "code",
      "metadata": {
        "id": "JI3QP1lRD_ge",
        "colab_type": "code",
        "colab": {
          "base_uri": "https://localhost:8080/",
          "height": 34
        },
        "outputId": "fb7e4a30-e751-4d85-a5e5-3a42e3efc229"
      },
      "source": [
        "df.columns"
      ],
      "execution_count": 18,
      "outputs": [
        {
          "output_type": "execute_result",
          "data": {
            "text/plain": [
              "Index(['Open', 'High', 'Low', 'Close', 'Volume'], dtype='object')"
            ]
          },
          "metadata": {
            "tags": []
          },
          "execution_count": 18
        }
      ]
    },
    {
      "cell_type": "code",
      "metadata": {
        "id": "6lmzPv3TEQJe",
        "colab_type": "code",
        "colab": {
          "base_uri": "https://localhost:8080/",
          "height": 238
        },
        "outputId": "ee97ae3c-f9fd-4f51-c0d0-71bf4f9a0ee9"
      },
      "source": [
        "df.columns = [col.lower() for col in df.columns]\n",
        "df.head()"
      ],
      "execution_count": 21,
      "outputs": [
        {
          "output_type": "execute_result",
          "data": {
            "text/html": [
              "<div>\n",
              "<style scoped>\n",
              "    .dataframe tbody tr th:only-of-type {\n",
              "        vertical-align: middle;\n",
              "    }\n",
              "\n",
              "    .dataframe tbody tr th {\n",
              "        vertical-align: top;\n",
              "    }\n",
              "\n",
              "    .dataframe thead th {\n",
              "        text-align: right;\n",
              "    }\n",
              "</style>\n",
              "<table border=\"1\" class=\"dataframe\">\n",
              "  <thead>\n",
              "    <tr style=\"text-align: right;\">\n",
              "      <th></th>\n",
              "      <th>open</th>\n",
              "      <th>high</th>\n",
              "      <th>low</th>\n",
              "      <th>close</th>\n",
              "      <th>volume</th>\n",
              "    </tr>\n",
              "    <tr>\n",
              "      <th>Date</th>\n",
              "      <th></th>\n",
              "      <th></th>\n",
              "      <th></th>\n",
              "      <th></th>\n",
              "      <th></th>\n",
              "    </tr>\n",
              "  </thead>\n",
              "  <tbody>\n",
              "    <tr>\n",
              "      <th>2020-08-03</th>\n",
              "      <td>3180.51</td>\n",
              "      <td>3184.0000</td>\n",
              "      <td>3104.00</td>\n",
              "      <td>3111.89</td>\n",
              "      <td>5074663</td>\n",
              "    </tr>\n",
              "    <tr>\n",
              "      <th>2020-07-31</th>\n",
              "      <td>3244.00</td>\n",
              "      <td>3246.8200</td>\n",
              "      <td>3151.00</td>\n",
              "      <td>3164.68</td>\n",
              "      <td>8083369</td>\n",
              "    </tr>\n",
              "    <tr>\n",
              "      <th>2020-07-30</th>\n",
              "      <td>3014.00</td>\n",
              "      <td>3092.0000</td>\n",
              "      <td>3005.00</td>\n",
              "      <td>3051.88</td>\n",
              "      <td>6128265</td>\n",
              "    </tr>\n",
              "    <tr>\n",
              "      <th>2020-07-29</th>\n",
              "      <td>3030.99</td>\n",
              "      <td>3039.1592</td>\n",
              "      <td>2996.77</td>\n",
              "      <td>3033.53</td>\n",
              "      <td>2974060</td>\n",
              "    </tr>\n",
              "    <tr>\n",
              "      <th>2020-07-28</th>\n",
              "      <td>3054.27</td>\n",
              "      <td>3077.0926</td>\n",
              "      <td>2995.76</td>\n",
              "      <td>3000.33</td>\n",
              "      <td>3126651</td>\n",
              "    </tr>\n",
              "  </tbody>\n",
              "</table>\n",
              "</div>"
            ],
            "text/plain": [
              "               open       high      low    close   volume\n",
              "Date                                                     \n",
              "2020-08-03  3180.51  3184.0000  3104.00  3111.89  5074663\n",
              "2020-07-31  3244.00  3246.8200  3151.00  3164.68  8083369\n",
              "2020-07-30  3014.00  3092.0000  3005.00  3051.88  6128265\n",
              "2020-07-29  3030.99  3039.1592  2996.77  3033.53  2974060\n",
              "2020-07-28  3054.27  3077.0926  2995.76  3000.33  3126651"
            ]
          },
          "metadata": {
            "tags": []
          },
          "execution_count": 21
        }
      ]
    },
    {
      "cell_type": "code",
      "metadata": {
        "id": "GOb9HXq9EtCo",
        "colab_type": "code",
        "colab": {
          "base_uri": "https://localhost:8080/",
          "height": 301
        },
        "outputId": "9425969e-60ae-4ea0-af37-139826eaa63d"
      },
      "source": [
        "df.describe()\n"
      ],
      "execution_count": 22,
      "outputs": [
        {
          "output_type": "execute_result",
          "data": {
            "text/html": [
              "<div>\n",
              "<style scoped>\n",
              "    .dataframe tbody tr th:only-of-type {\n",
              "        vertical-align: middle;\n",
              "    }\n",
              "\n",
              "    .dataframe tbody tr th {\n",
              "        vertical-align: top;\n",
              "    }\n",
              "\n",
              "    .dataframe thead th {\n",
              "        text-align: right;\n",
              "    }\n",
              "</style>\n",
              "<table border=\"1\" class=\"dataframe\">\n",
              "  <thead>\n",
              "    <tr style=\"text-align: right;\">\n",
              "      <th></th>\n",
              "      <th>open</th>\n",
              "      <th>high</th>\n",
              "      <th>low</th>\n",
              "      <th>close</th>\n",
              "      <th>volume</th>\n",
              "    </tr>\n",
              "  </thead>\n",
              "  <tbody>\n",
              "    <tr>\n",
              "      <th>count</th>\n",
              "      <td>1257.000000</td>\n",
              "      <td>1257.000000</td>\n",
              "      <td>1257.000000</td>\n",
              "      <td>1257.000000</td>\n",
              "      <td>1.257000e+03</td>\n",
              "    </tr>\n",
              "    <tr>\n",
              "      <th>mean</th>\n",
              "      <td>1340.735492</td>\n",
              "      <td>1354.384158</td>\n",
              "      <td>1325.414556</td>\n",
              "      <td>1340.739018</td>\n",
              "      <td>4.267480e+06</td>\n",
              "    </tr>\n",
              "    <tr>\n",
              "      <th>std</th>\n",
              "      <td>601.198163</td>\n",
              "      <td>609.278171</td>\n",
              "      <td>592.430982</td>\n",
              "      <td>601.243095</td>\n",
              "      <td>2.153530e+06</td>\n",
              "    </tr>\n",
              "    <tr>\n",
              "      <th>min</th>\n",
              "      <td>463.580000</td>\n",
              "      <td>489.440000</td>\n",
              "      <td>451.000000</td>\n",
              "      <td>463.370000</td>\n",
              "      <td>8.813370e+05</td>\n",
              "    </tr>\n",
              "    <tr>\n",
              "      <th>25%</th>\n",
              "      <td>776.000000</td>\n",
              "      <td>781.000000</td>\n",
              "      <td>769.120000</td>\n",
              "      <td>774.340000</td>\n",
              "      <td>2.808040e+06</td>\n",
              "    </tr>\n",
              "    <tr>\n",
              "      <th>50%</th>\n",
              "      <td>1374.820000</td>\n",
              "      <td>1415.390000</td>\n",
              "      <td>1352.880000</td>\n",
              "      <td>1387.330000</td>\n",
              "      <td>3.703692e+06</td>\n",
              "    </tr>\n",
              "    <tr>\n",
              "      <th>75%</th>\n",
              "      <td>1801.000000</td>\n",
              "      <td>1816.820000</td>\n",
              "      <td>1783.480000</td>\n",
              "      <td>1800.620000</td>\n",
              "      <td>5.114403e+06</td>\n",
              "    </tr>\n",
              "    <tr>\n",
              "      <th>max</th>\n",
              "      <td>3251.060000</td>\n",
              "      <td>3344.290000</td>\n",
              "      <td>3151.000000</td>\n",
              "      <td>3200.000000</td>\n",
              "      <td>1.655260e+07</td>\n",
              "    </tr>\n",
              "  </tbody>\n",
              "</table>\n",
              "</div>"
            ],
            "text/plain": [
              "              open         high          low        close        volume\n",
              "count  1257.000000  1257.000000  1257.000000  1257.000000  1.257000e+03\n",
              "mean   1340.735492  1354.384158  1325.414556  1340.739018  4.267480e+06\n",
              "std     601.198163   609.278171   592.430982   601.243095  2.153530e+06\n",
              "min     463.580000   489.440000   451.000000   463.370000  8.813370e+05\n",
              "25%     776.000000   781.000000   769.120000   774.340000  2.808040e+06\n",
              "50%    1374.820000  1415.390000  1352.880000  1387.330000  3.703692e+06\n",
              "75%    1801.000000  1816.820000  1783.480000  1800.620000  5.114403e+06\n",
              "max    3251.060000  3344.290000  3151.000000  3200.000000  1.655260e+07"
            ]
          },
          "metadata": {
            "tags": []
          },
          "execution_count": 22
        }
      ]
    },
    {
      "cell_type": "code",
      "metadata": {
        "id": "Yia_sTFpHjAj",
        "colab_type": "code",
        "colab": {
          "base_uri": "https://localhost:8080/",
          "height": 206
        },
        "outputId": "e1241d18-622b-4272-d10a-c5e67acfe66f"
      },
      "source": [
        "df.describe().T"
      ],
      "execution_count": 23,
      "outputs": [
        {
          "output_type": "execute_result",
          "data": {
            "text/html": [
              "<div>\n",
              "<style scoped>\n",
              "    .dataframe tbody tr th:only-of-type {\n",
              "        vertical-align: middle;\n",
              "    }\n",
              "\n",
              "    .dataframe tbody tr th {\n",
              "        vertical-align: top;\n",
              "    }\n",
              "\n",
              "    .dataframe thead th {\n",
              "        text-align: right;\n",
              "    }\n",
              "</style>\n",
              "<table border=\"1\" class=\"dataframe\">\n",
              "  <thead>\n",
              "    <tr style=\"text-align: right;\">\n",
              "      <th></th>\n",
              "      <th>count</th>\n",
              "      <th>mean</th>\n",
              "      <th>std</th>\n",
              "      <th>min</th>\n",
              "      <th>25%</th>\n",
              "      <th>50%</th>\n",
              "      <th>75%</th>\n",
              "      <th>max</th>\n",
              "    </tr>\n",
              "  </thead>\n",
              "  <tbody>\n",
              "    <tr>\n",
              "      <th>open</th>\n",
              "      <td>1257.0</td>\n",
              "      <td>1.340735e+03</td>\n",
              "      <td>6.011982e+02</td>\n",
              "      <td>463.58</td>\n",
              "      <td>776.00</td>\n",
              "      <td>1374.82</td>\n",
              "      <td>1801.00</td>\n",
              "      <td>3251.06</td>\n",
              "    </tr>\n",
              "    <tr>\n",
              "      <th>high</th>\n",
              "      <td>1257.0</td>\n",
              "      <td>1.354384e+03</td>\n",
              "      <td>6.092782e+02</td>\n",
              "      <td>489.44</td>\n",
              "      <td>781.00</td>\n",
              "      <td>1415.39</td>\n",
              "      <td>1816.82</td>\n",
              "      <td>3344.29</td>\n",
              "    </tr>\n",
              "    <tr>\n",
              "      <th>low</th>\n",
              "      <td>1257.0</td>\n",
              "      <td>1.325415e+03</td>\n",
              "      <td>5.924310e+02</td>\n",
              "      <td>451.00</td>\n",
              "      <td>769.12</td>\n",
              "      <td>1352.88</td>\n",
              "      <td>1783.48</td>\n",
              "      <td>3151.00</td>\n",
              "    </tr>\n",
              "    <tr>\n",
              "      <th>close</th>\n",
              "      <td>1257.0</td>\n",
              "      <td>1.340739e+03</td>\n",
              "      <td>6.012431e+02</td>\n",
              "      <td>463.37</td>\n",
              "      <td>774.34</td>\n",
              "      <td>1387.33</td>\n",
              "      <td>1800.62</td>\n",
              "      <td>3200.00</td>\n",
              "    </tr>\n",
              "    <tr>\n",
              "      <th>volume</th>\n",
              "      <td>1257.0</td>\n",
              "      <td>4.267480e+06</td>\n",
              "      <td>2.153530e+06</td>\n",
              "      <td>881337.00</td>\n",
              "      <td>2808040.00</td>\n",
              "      <td>3703692.00</td>\n",
              "      <td>5114403.00</td>\n",
              "      <td>16552598.00</td>\n",
              "    </tr>\n",
              "  </tbody>\n",
              "</table>\n",
              "</div>"
            ],
            "text/plain": [
              "         count          mean           std  ...         50%         75%          max\n",
              "open    1257.0  1.340735e+03  6.011982e+02  ...     1374.82     1801.00      3251.06\n",
              "high    1257.0  1.354384e+03  6.092782e+02  ...     1415.39     1816.82      3344.29\n",
              "low     1257.0  1.325415e+03  5.924310e+02  ...     1352.88     1783.48      3151.00\n",
              "close   1257.0  1.340739e+03  6.012431e+02  ...     1387.33     1800.62      3200.00\n",
              "volume  1257.0  4.267480e+06  2.153530e+06  ...  3703692.00  5114403.00  16552598.00\n",
              "\n",
              "[5 rows x 8 columns]"
            ]
          },
          "metadata": {
            "tags": []
          },
          "execution_count": 23
        }
      ]
    },
    {
      "cell_type": "code",
      "metadata": {
        "id": "z2Ha-pKEHrcG",
        "colab_type": "code",
        "colab": {}
      },
      "source": [
        "df = df.head(10)"
      ],
      "execution_count": 24,
      "outputs": []
    },
    {
      "cell_type": "code",
      "metadata": {
        "id": "TX6lbS3FItEC",
        "colab_type": "code",
        "colab": {
          "base_uri": "https://localhost:8080/",
          "height": 395
        },
        "outputId": "8876c41c-a204-4eb1-8baf-50803060b340"
      },
      "source": [
        "df"
      ],
      "execution_count": 25,
      "outputs": [
        {
          "output_type": "execute_result",
          "data": {
            "text/html": [
              "<div>\n",
              "<style scoped>\n",
              "    .dataframe tbody tr th:only-of-type {\n",
              "        vertical-align: middle;\n",
              "    }\n",
              "\n",
              "    .dataframe tbody tr th {\n",
              "        vertical-align: top;\n",
              "    }\n",
              "\n",
              "    .dataframe thead th {\n",
              "        text-align: right;\n",
              "    }\n",
              "</style>\n",
              "<table border=\"1\" class=\"dataframe\">\n",
              "  <thead>\n",
              "    <tr style=\"text-align: right;\">\n",
              "      <th></th>\n",
              "      <th>open</th>\n",
              "      <th>high</th>\n",
              "      <th>low</th>\n",
              "      <th>close</th>\n",
              "      <th>volume</th>\n",
              "    </tr>\n",
              "    <tr>\n",
              "      <th>Date</th>\n",
              "      <th></th>\n",
              "      <th></th>\n",
              "      <th></th>\n",
              "      <th></th>\n",
              "      <th></th>\n",
              "    </tr>\n",
              "  </thead>\n",
              "  <tbody>\n",
              "    <tr>\n",
              "      <th>2020-08-03</th>\n",
              "      <td>3180.5100</td>\n",
              "      <td>3184.0000</td>\n",
              "      <td>3104.00</td>\n",
              "      <td>3111.89</td>\n",
              "      <td>5074663</td>\n",
              "    </tr>\n",
              "    <tr>\n",
              "      <th>2020-07-31</th>\n",
              "      <td>3244.0000</td>\n",
              "      <td>3246.8200</td>\n",
              "      <td>3151.00</td>\n",
              "      <td>3164.68</td>\n",
              "      <td>8083369</td>\n",
              "    </tr>\n",
              "    <tr>\n",
              "      <th>2020-07-30</th>\n",
              "      <td>3014.0000</td>\n",
              "      <td>3092.0000</td>\n",
              "      <td>3005.00</td>\n",
              "      <td>3051.88</td>\n",
              "      <td>6128265</td>\n",
              "    </tr>\n",
              "    <tr>\n",
              "      <th>2020-07-29</th>\n",
              "      <td>3030.9900</td>\n",
              "      <td>3039.1592</td>\n",
              "      <td>2996.77</td>\n",
              "      <td>3033.53</td>\n",
              "      <td>2974060</td>\n",
              "    </tr>\n",
              "    <tr>\n",
              "      <th>2020-07-28</th>\n",
              "      <td>3054.2700</td>\n",
              "      <td>3077.0926</td>\n",
              "      <td>2995.76</td>\n",
              "      <td>3000.33</td>\n",
              "      <td>3126651</td>\n",
              "    </tr>\n",
              "    <tr>\n",
              "      <th>2020-07-27</th>\n",
              "      <td>3062.0000</td>\n",
              "      <td>3098.0000</td>\n",
              "      <td>3015.77</td>\n",
              "      <td>3055.21</td>\n",
              "      <td>4170492</td>\n",
              "    </tr>\n",
              "    <tr>\n",
              "      <th>2020-07-24</th>\n",
              "      <td>2930.0000</td>\n",
              "      <td>3031.5800</td>\n",
              "      <td>2888.00</td>\n",
              "      <td>3008.91</td>\n",
              "      <td>5632413</td>\n",
              "    </tr>\n",
              "    <tr>\n",
              "      <th>2020-07-23</th>\n",
              "      <td>3098.2713</td>\n",
              "      <td>3098.2713</td>\n",
              "      <td>2970.00</td>\n",
              "      <td>2986.55</td>\n",
              "      <td>5656906</td>\n",
              "    </tr>\n",
              "    <tr>\n",
              "      <th>2020-07-22</th>\n",
              "      <td>3125.0000</td>\n",
              "      <td>3149.9999</td>\n",
              "      <td>3065.26</td>\n",
              "      <td>3099.91</td>\n",
              "      <td>4104225</td>\n",
              "    </tr>\n",
              "    <tr>\n",
              "      <th>2020-07-21</th>\n",
              "      <td>3232.4900</td>\n",
              "      <td>3240.5758</td>\n",
              "      <td>3105.72</td>\n",
              "      <td>3138.29</td>\n",
              "      <td>6134965</td>\n",
              "    </tr>\n",
              "  </tbody>\n",
              "</table>\n",
              "</div>"
            ],
            "text/plain": [
              "                 open       high      low    close   volume\n",
              "Date                                                       \n",
              "2020-08-03  3180.5100  3184.0000  3104.00  3111.89  5074663\n",
              "2020-07-31  3244.0000  3246.8200  3151.00  3164.68  8083369\n",
              "2020-07-30  3014.0000  3092.0000  3005.00  3051.88  6128265\n",
              "2020-07-29  3030.9900  3039.1592  2996.77  3033.53  2974060\n",
              "2020-07-28  3054.2700  3077.0926  2995.76  3000.33  3126651\n",
              "2020-07-27  3062.0000  3098.0000  3015.77  3055.21  4170492\n",
              "2020-07-24  2930.0000  3031.5800  2888.00  3008.91  5632413\n",
              "2020-07-23  3098.2713  3098.2713  2970.00  2986.55  5656906\n",
              "2020-07-22  3125.0000  3149.9999  3065.26  3099.91  4104225\n",
              "2020-07-21  3232.4900  3240.5758  3105.72  3138.29  6134965"
            ]
          },
          "metadata": {
            "tags": []
          },
          "execution_count": 25
        }
      ]
    },
    {
      "cell_type": "code",
      "metadata": {
        "id": "cpw9o0enIuY7",
        "colab_type": "code",
        "colab": {
          "base_uri": "https://localhost:8080/",
          "height": 225
        },
        "outputId": "e01be253-80e1-4a76-cf6f-f15b7c7468d5"
      },
      "source": [
        "df['open']"
      ],
      "execution_count": 26,
      "outputs": [
        {
          "output_type": "execute_result",
          "data": {
            "text/plain": [
              "Date\n",
              "2020-08-03    3180.5100\n",
              "2020-07-31    3244.0000\n",
              "2020-07-30    3014.0000\n",
              "2020-07-29    3030.9900\n",
              "2020-07-28    3054.2700\n",
              "2020-07-27    3062.0000\n",
              "2020-07-24    2930.0000\n",
              "2020-07-23    3098.2713\n",
              "2020-07-22    3125.0000\n",
              "2020-07-21    3232.4900\n",
              "Name: open, dtype: float64"
            ]
          },
          "metadata": {
            "tags": []
          },
          "execution_count": 26
        }
      ]
    },
    {
      "cell_type": "code",
      "metadata": {
        "id": "8NOTqE6yI237",
        "colab_type": "code",
        "colab": {
          "base_uri": "https://localhost:8080/",
          "height": 225
        },
        "outputId": "cecc6015-cdda-4d84-e77e-d8a99c298a7b"
      },
      "source": [
        "df.open"
      ],
      "execution_count": 27,
      "outputs": [
        {
          "output_type": "execute_result",
          "data": {
            "text/plain": [
              "Date\n",
              "2020-08-03    3180.5100\n",
              "2020-07-31    3244.0000\n",
              "2020-07-30    3014.0000\n",
              "2020-07-29    3030.9900\n",
              "2020-07-28    3054.2700\n",
              "2020-07-27    3062.0000\n",
              "2020-07-24    2930.0000\n",
              "2020-07-23    3098.2713\n",
              "2020-07-22    3125.0000\n",
              "2020-07-21    3232.4900\n",
              "Name: open, dtype: float64"
            ]
          },
          "metadata": {
            "tags": []
          },
          "execution_count": 27
        }
      ]
    },
    {
      "cell_type": "code",
      "metadata": {
        "id": "RVlmQTRvI5g9",
        "colab_type": "code",
        "colab": {
          "base_uri": "https://localhost:8080/",
          "height": 395
        },
        "outputId": "b17d76ff-c38d-4e9f-b2b4-e459bfd93c83"
      },
      "source": [
        "df[['open']]"
      ],
      "execution_count": 28,
      "outputs": [
        {
          "output_type": "execute_result",
          "data": {
            "text/html": [
              "<div>\n",
              "<style scoped>\n",
              "    .dataframe tbody tr th:only-of-type {\n",
              "        vertical-align: middle;\n",
              "    }\n",
              "\n",
              "    .dataframe tbody tr th {\n",
              "        vertical-align: top;\n",
              "    }\n",
              "\n",
              "    .dataframe thead th {\n",
              "        text-align: right;\n",
              "    }\n",
              "</style>\n",
              "<table border=\"1\" class=\"dataframe\">\n",
              "  <thead>\n",
              "    <tr style=\"text-align: right;\">\n",
              "      <th></th>\n",
              "      <th>open</th>\n",
              "    </tr>\n",
              "    <tr>\n",
              "      <th>Date</th>\n",
              "      <th></th>\n",
              "    </tr>\n",
              "  </thead>\n",
              "  <tbody>\n",
              "    <tr>\n",
              "      <th>2020-08-03</th>\n",
              "      <td>3180.5100</td>\n",
              "    </tr>\n",
              "    <tr>\n",
              "      <th>2020-07-31</th>\n",
              "      <td>3244.0000</td>\n",
              "    </tr>\n",
              "    <tr>\n",
              "      <th>2020-07-30</th>\n",
              "      <td>3014.0000</td>\n",
              "    </tr>\n",
              "    <tr>\n",
              "      <th>2020-07-29</th>\n",
              "      <td>3030.9900</td>\n",
              "    </tr>\n",
              "    <tr>\n",
              "      <th>2020-07-28</th>\n",
              "      <td>3054.2700</td>\n",
              "    </tr>\n",
              "    <tr>\n",
              "      <th>2020-07-27</th>\n",
              "      <td>3062.0000</td>\n",
              "    </tr>\n",
              "    <tr>\n",
              "      <th>2020-07-24</th>\n",
              "      <td>2930.0000</td>\n",
              "    </tr>\n",
              "    <tr>\n",
              "      <th>2020-07-23</th>\n",
              "      <td>3098.2713</td>\n",
              "    </tr>\n",
              "    <tr>\n",
              "      <th>2020-07-22</th>\n",
              "      <td>3125.0000</td>\n",
              "    </tr>\n",
              "    <tr>\n",
              "      <th>2020-07-21</th>\n",
              "      <td>3232.4900</td>\n",
              "    </tr>\n",
              "  </tbody>\n",
              "</table>\n",
              "</div>"
            ],
            "text/plain": [
              "                 open\n",
              "Date                 \n",
              "2020-08-03  3180.5100\n",
              "2020-07-31  3244.0000\n",
              "2020-07-30  3014.0000\n",
              "2020-07-29  3030.9900\n",
              "2020-07-28  3054.2700\n",
              "2020-07-27  3062.0000\n",
              "2020-07-24  2930.0000\n",
              "2020-07-23  3098.2713\n",
              "2020-07-22  3125.0000\n",
              "2020-07-21  3232.4900"
            ]
          },
          "metadata": {
            "tags": []
          },
          "execution_count": 28
        }
      ]
    },
    {
      "cell_type": "code",
      "metadata": {
        "id": "jDKiVSmaJClM",
        "colab_type": "code",
        "colab": {
          "base_uri": "https://localhost:8080/",
          "height": 225
        },
        "outputId": "3d51477f-3a30-41b3-8ea4-76227396f45b"
      },
      "source": [
        "df.iloc[:, 0]"
      ],
      "execution_count": 29,
      "outputs": [
        {
          "output_type": "execute_result",
          "data": {
            "text/plain": [
              "Date\n",
              "2020-08-03    3180.5100\n",
              "2020-07-31    3244.0000\n",
              "2020-07-30    3014.0000\n",
              "2020-07-29    3030.9900\n",
              "2020-07-28    3054.2700\n",
              "2020-07-27    3062.0000\n",
              "2020-07-24    2930.0000\n",
              "2020-07-23    3098.2713\n",
              "2020-07-22    3125.0000\n",
              "2020-07-21    3232.4900\n",
              "Name: open, dtype: float64"
            ]
          },
          "metadata": {
            "tags": []
          },
          "execution_count": 29
        }
      ]
    },
    {
      "cell_type": "code",
      "metadata": {
        "id": "atWxkeWaJWs-",
        "colab_type": "code",
        "colab": {
          "base_uri": "https://localhost:8080/",
          "height": 395
        },
        "outputId": "b153d601-fdd8-477c-84e4-e6a8e8f60607"
      },
      "source": [
        "df.iloc[:, [0, 3]]"
      ],
      "execution_count": 31,
      "outputs": [
        {
          "output_type": "execute_result",
          "data": {
            "text/html": [
              "<div>\n",
              "<style scoped>\n",
              "    .dataframe tbody tr th:only-of-type {\n",
              "        vertical-align: middle;\n",
              "    }\n",
              "\n",
              "    .dataframe tbody tr th {\n",
              "        vertical-align: top;\n",
              "    }\n",
              "\n",
              "    .dataframe thead th {\n",
              "        text-align: right;\n",
              "    }\n",
              "</style>\n",
              "<table border=\"1\" class=\"dataframe\">\n",
              "  <thead>\n",
              "    <tr style=\"text-align: right;\">\n",
              "      <th></th>\n",
              "      <th>open</th>\n",
              "      <th>close</th>\n",
              "    </tr>\n",
              "    <tr>\n",
              "      <th>Date</th>\n",
              "      <th></th>\n",
              "      <th></th>\n",
              "    </tr>\n",
              "  </thead>\n",
              "  <tbody>\n",
              "    <tr>\n",
              "      <th>2020-08-03</th>\n",
              "      <td>3180.5100</td>\n",
              "      <td>3111.89</td>\n",
              "    </tr>\n",
              "    <tr>\n",
              "      <th>2020-07-31</th>\n",
              "      <td>3244.0000</td>\n",
              "      <td>3164.68</td>\n",
              "    </tr>\n",
              "    <tr>\n",
              "      <th>2020-07-30</th>\n",
              "      <td>3014.0000</td>\n",
              "      <td>3051.88</td>\n",
              "    </tr>\n",
              "    <tr>\n",
              "      <th>2020-07-29</th>\n",
              "      <td>3030.9900</td>\n",
              "      <td>3033.53</td>\n",
              "    </tr>\n",
              "    <tr>\n",
              "      <th>2020-07-28</th>\n",
              "      <td>3054.2700</td>\n",
              "      <td>3000.33</td>\n",
              "    </tr>\n",
              "    <tr>\n",
              "      <th>2020-07-27</th>\n",
              "      <td>3062.0000</td>\n",
              "      <td>3055.21</td>\n",
              "    </tr>\n",
              "    <tr>\n",
              "      <th>2020-07-24</th>\n",
              "      <td>2930.0000</td>\n",
              "      <td>3008.91</td>\n",
              "    </tr>\n",
              "    <tr>\n",
              "      <th>2020-07-23</th>\n",
              "      <td>3098.2713</td>\n",
              "      <td>2986.55</td>\n",
              "    </tr>\n",
              "    <tr>\n",
              "      <th>2020-07-22</th>\n",
              "      <td>3125.0000</td>\n",
              "      <td>3099.91</td>\n",
              "    </tr>\n",
              "    <tr>\n",
              "      <th>2020-07-21</th>\n",
              "      <td>3232.4900</td>\n",
              "      <td>3138.29</td>\n",
              "    </tr>\n",
              "  </tbody>\n",
              "</table>\n",
              "</div>"
            ],
            "text/plain": [
              "                 open    close\n",
              "Date                          \n",
              "2020-08-03  3180.5100  3111.89\n",
              "2020-07-31  3244.0000  3164.68\n",
              "2020-07-30  3014.0000  3051.88\n",
              "2020-07-29  3030.9900  3033.53\n",
              "2020-07-28  3054.2700  3000.33\n",
              "2020-07-27  3062.0000  3055.21\n",
              "2020-07-24  2930.0000  3008.91\n",
              "2020-07-23  3098.2713  2986.55\n",
              "2020-07-22  3125.0000  3099.91\n",
              "2020-07-21  3232.4900  3138.29"
            ]
          },
          "metadata": {
            "tags": []
          },
          "execution_count": 31
        }
      ]
    },
    {
      "cell_type": "code",
      "metadata": {
        "id": "_7TpXN21JgDG",
        "colab_type": "code",
        "colab": {}
      },
      "source": [
        ""
      ],
      "execution_count": null,
      "outputs": []
    }
  ]
}