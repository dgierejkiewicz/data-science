{
  "nbformat": 4,
  "nbformat_minor": 0,
  "metadata": {
    "colab": {
      "name": "dane_gieldowe.ipynb",
      "provenance": [],
      "authorship_tag": "ABX9TyMsGeAiKmv7vkPaZxEWwXxg",
      "include_colab_link": true
    },
    "kernelspec": {
      "name": "python3",
      "display_name": "Python 3"
    }
  },
  "cells": [
    {
      "cell_type": "markdown",
      "metadata": {
        "id": "view-in-github",
        "colab_type": "text"
      },
      "source": [
        "<a href=\"https://colab.research.google.com/github/dgierejkiewicz/data-science/blob/master/dane_gieldowe.ipynb\" target=\"_parent\"><img src=\"https://colab.research.google.com/assets/colab-badge.svg\" alt=\"Open In Colab\"/></a>"
      ]
    },
    {
      "cell_type": "code",
      "metadata": {
        "id": "tKJhX4Irt2Nm",
        "colab_type": "code",
        "colab": {
          "base_uri": "https://localhost:8080/",
          "height": 52
        },
        "outputId": "fb7113f6-075f-41d4-9d33-1013f147b878"
      },
      "source": [
        "import pandas as pd\n",
        "import numpy as np\n",
        "\n",
        "print(f'Numpy: {np.__version__}')\n",
        "print(f'Pandas: {pd.__version__}')"
      ],
      "execution_count": null,
      "outputs": [
        {
          "output_type": "stream",
          "text": [
            "Numpy: 1.18.5\n",
            "Pandas: 1.0.5\n"
          ],
          "name": "stdout"
        }
      ]
    },
    {
      "cell_type": "code",
      "metadata": {
        "id": "0vz5AnTkuIOf",
        "colab_type": "code",
        "colab": {
          "base_uri": "https://localhost:8080/",
          "height": 278
        },
        "outputId": "8c25809b-b903-4eca-9ea2-30efde9c20f2"
      },
      "source": [
        "def fetch_stock_data(company='AMZN'):\n",
        "  \"\"\"Pobranie danych dotyczących notowań spółek na giełdzie wg symboli\n",
        "  w serwisie stooq.pl\"\"\" \n",
        "  import pandas_datareader.data as web\n",
        "  return web.DataReader(name=company, data_source='stooq')\n",
        "df = fetch_stock_data()\n",
        "df.info"
      ],
      "execution_count": null,
      "outputs": [
        {
          "output_type": "execute_result",
          "data": {
            "text/plain": [
              "<bound method DataFrame.info of                Open       High        Low    Close    Volume\n",
              "Date                                                        \n",
              "2020-08-19  3303.01  3315.9000  3256.0001  3260.48   4185137\n",
              "2020-08-18  3212.00  3320.0000  3205.8187  3312.49   5345974\n",
              "2020-08-17  3173.12  3194.9700  3154.1775  3182.41   2691237\n",
              "2020-08-14  3178.18  3178.2357  3120.0000  3148.02   2751723\n",
              "2020-08-13  3182.99  3217.5211  3155.0000  3161.02   3149043\n",
              "...             ...        ...        ...      ...       ...\n",
              "2015-08-28   517.50   521.5000   513.0400   518.01   2746700\n",
              "2015-08-27   513.71   522.6900   507.2600   518.37   6114500\n",
              "2015-08-26   484.02   503.7200   478.7600   500.77   6358600\n",
              "2015-08-25   487.49   489.4400   466.2500   466.37   5679300\n",
              "2015-08-24   463.58   489.7600   451.0000   463.37  10096277\n",
              "\n",
              "[1257 rows x 5 columns]>"
            ]
          },
          "metadata": {
            "tags": []
          },
          "execution_count": 89
        }
      ]
    },
    {
      "cell_type": "code",
      "metadata": {
        "id": "iURWaWgMv5B0",
        "colab_type": "code",
        "colab": {
          "base_uri": "https://localhost:8080/",
          "height": 225
        },
        "outputId": "b7fd00b7-0b1d-4f35-9ffc-4e9098b60ef9"
      },
      "source": [
        "df.info()"
      ],
      "execution_count": null,
      "outputs": [
        {
          "output_type": "stream",
          "text": [
            "<class 'pandas.core.frame.DataFrame'>\n",
            "DatetimeIndex: 1257 entries, 2020-08-19 to 2015-08-24\n",
            "Data columns (total 5 columns):\n",
            " #   Column  Non-Null Count  Dtype  \n",
            "---  ------  --------------  -----  \n",
            " 0   Open    1257 non-null   float64\n",
            " 1   High    1257 non-null   float64\n",
            " 2   Low     1257 non-null   float64\n",
            " 3   Close   1257 non-null   float64\n",
            " 4   Volume  1257 non-null   int64  \n",
            "dtypes: float64(4), int64(1)\n",
            "memory usage: 58.9 KB\n"
          ],
          "name": "stdout"
        }
      ]
    },
    {
      "cell_type": "code",
      "metadata": {
        "id": "5nZ6EwVd9vKL",
        "colab_type": "code",
        "colab": {
          "base_uri": "https://localhost:8080/",
          "height": 455
        },
        "outputId": "9ba8c8ce-7748-4cfa-d069-0018ed2e4eb6"
      },
      "source": [
        "df"
      ],
      "execution_count": null,
      "outputs": [
        {
          "output_type": "execute_result",
          "data": {
            "text/html": [
              "<div>\n",
              "<style scoped>\n",
              "    .dataframe tbody tr th:only-of-type {\n",
              "        vertical-align: middle;\n",
              "    }\n",
              "\n",
              "    .dataframe tbody tr th {\n",
              "        vertical-align: top;\n",
              "    }\n",
              "\n",
              "    .dataframe thead th {\n",
              "        text-align: right;\n",
              "    }\n",
              "</style>\n",
              "<table border=\"1\" class=\"dataframe\">\n",
              "  <thead>\n",
              "    <tr style=\"text-align: right;\">\n",
              "      <th></th>\n",
              "      <th>Open</th>\n",
              "      <th>High</th>\n",
              "      <th>Low</th>\n",
              "      <th>Close</th>\n",
              "      <th>Volume</th>\n",
              "    </tr>\n",
              "    <tr>\n",
              "      <th>Date</th>\n",
              "      <th></th>\n",
              "      <th></th>\n",
              "      <th></th>\n",
              "      <th></th>\n",
              "      <th></th>\n",
              "    </tr>\n",
              "  </thead>\n",
              "  <tbody>\n",
              "    <tr>\n",
              "      <th>2020-08-19</th>\n",
              "      <td>3303.01</td>\n",
              "      <td>3315.9000</td>\n",
              "      <td>3256.0001</td>\n",
              "      <td>3260.48</td>\n",
              "      <td>4185137</td>\n",
              "    </tr>\n",
              "    <tr>\n",
              "      <th>2020-08-18</th>\n",
              "      <td>3212.00</td>\n",
              "      <td>3320.0000</td>\n",
              "      <td>3205.8187</td>\n",
              "      <td>3312.49</td>\n",
              "      <td>5345974</td>\n",
              "    </tr>\n",
              "    <tr>\n",
              "      <th>2020-08-17</th>\n",
              "      <td>3173.12</td>\n",
              "      <td>3194.9700</td>\n",
              "      <td>3154.1775</td>\n",
              "      <td>3182.41</td>\n",
              "      <td>2691237</td>\n",
              "    </tr>\n",
              "    <tr>\n",
              "      <th>2020-08-14</th>\n",
              "      <td>3178.18</td>\n",
              "      <td>3178.2357</td>\n",
              "      <td>3120.0000</td>\n",
              "      <td>3148.02</td>\n",
              "      <td>2751723</td>\n",
              "    </tr>\n",
              "    <tr>\n",
              "      <th>2020-08-13</th>\n",
              "      <td>3182.99</td>\n",
              "      <td>3217.5211</td>\n",
              "      <td>3155.0000</td>\n",
              "      <td>3161.02</td>\n",
              "      <td>3149043</td>\n",
              "    </tr>\n",
              "    <tr>\n",
              "      <th>...</th>\n",
              "      <td>...</td>\n",
              "      <td>...</td>\n",
              "      <td>...</td>\n",
              "      <td>...</td>\n",
              "      <td>...</td>\n",
              "    </tr>\n",
              "    <tr>\n",
              "      <th>2015-08-28</th>\n",
              "      <td>517.50</td>\n",
              "      <td>521.5000</td>\n",
              "      <td>513.0400</td>\n",
              "      <td>518.01</td>\n",
              "      <td>2746700</td>\n",
              "    </tr>\n",
              "    <tr>\n",
              "      <th>2015-08-27</th>\n",
              "      <td>513.71</td>\n",
              "      <td>522.6900</td>\n",
              "      <td>507.2600</td>\n",
              "      <td>518.37</td>\n",
              "      <td>6114500</td>\n",
              "    </tr>\n",
              "    <tr>\n",
              "      <th>2015-08-26</th>\n",
              "      <td>484.02</td>\n",
              "      <td>503.7200</td>\n",
              "      <td>478.7600</td>\n",
              "      <td>500.77</td>\n",
              "      <td>6358600</td>\n",
              "    </tr>\n",
              "    <tr>\n",
              "      <th>2015-08-25</th>\n",
              "      <td>487.49</td>\n",
              "      <td>489.4400</td>\n",
              "      <td>466.2500</td>\n",
              "      <td>466.37</td>\n",
              "      <td>5679300</td>\n",
              "    </tr>\n",
              "    <tr>\n",
              "      <th>2015-08-24</th>\n",
              "      <td>463.58</td>\n",
              "      <td>489.7600</td>\n",
              "      <td>451.0000</td>\n",
              "      <td>463.37</td>\n",
              "      <td>10096277</td>\n",
              "    </tr>\n",
              "  </tbody>\n",
              "</table>\n",
              "<p>1257 rows × 5 columns</p>\n",
              "</div>"
            ],
            "text/plain": [
              "               Open       High        Low    Close    Volume\n",
              "Date                                                        \n",
              "2020-08-19  3303.01  3315.9000  3256.0001  3260.48   4185137\n",
              "2020-08-18  3212.00  3320.0000  3205.8187  3312.49   5345974\n",
              "2020-08-17  3173.12  3194.9700  3154.1775  3182.41   2691237\n",
              "2020-08-14  3178.18  3178.2357  3120.0000  3148.02   2751723\n",
              "2020-08-13  3182.99  3217.5211  3155.0000  3161.02   3149043\n",
              "...             ...        ...        ...      ...       ...\n",
              "2015-08-28   517.50   521.5000   513.0400   518.01   2746700\n",
              "2015-08-27   513.71   522.6900   507.2600   518.37   6114500\n",
              "2015-08-26   484.02   503.7200   478.7600   500.77   6358600\n",
              "2015-08-25   487.49   489.4400   466.2500   466.37   5679300\n",
              "2015-08-24   463.58   489.7600   451.0000   463.37  10096277\n",
              "\n",
              "[1257 rows x 5 columns]"
            ]
          },
          "metadata": {
            "tags": []
          },
          "execution_count": 91
        }
      ]
    },
    {
      "cell_type": "code",
      "metadata": {
        "id": "wz2wjKV094Ex",
        "colab_type": "code",
        "colab": {
          "base_uri": "https://localhost:8080/",
          "height": 394
        },
        "outputId": "43dc3575-b5f2-40f8-f68c-20ba47adbc33"
      },
      "source": [
        "df.head(10)"
      ],
      "execution_count": null,
      "outputs": [
        {
          "output_type": "execute_result",
          "data": {
            "text/html": [
              "<div>\n",
              "<style scoped>\n",
              "    .dataframe tbody tr th:only-of-type {\n",
              "        vertical-align: middle;\n",
              "    }\n",
              "\n",
              "    .dataframe tbody tr th {\n",
              "        vertical-align: top;\n",
              "    }\n",
              "\n",
              "    .dataframe thead th {\n",
              "        text-align: right;\n",
              "    }\n",
              "</style>\n",
              "<table border=\"1\" class=\"dataframe\">\n",
              "  <thead>\n",
              "    <tr style=\"text-align: right;\">\n",
              "      <th></th>\n",
              "      <th>Open</th>\n",
              "      <th>High</th>\n",
              "      <th>Low</th>\n",
              "      <th>Close</th>\n",
              "      <th>Volume</th>\n",
              "    </tr>\n",
              "    <tr>\n",
              "      <th>Date</th>\n",
              "      <th></th>\n",
              "      <th></th>\n",
              "      <th></th>\n",
              "      <th></th>\n",
              "      <th></th>\n",
              "    </tr>\n",
              "  </thead>\n",
              "  <tbody>\n",
              "    <tr>\n",
              "      <th>2020-08-19</th>\n",
              "      <td>3303.01</td>\n",
              "      <td>3315.9000</td>\n",
              "      <td>3256.0001</td>\n",
              "      <td>3260.48</td>\n",
              "      <td>4185137</td>\n",
              "    </tr>\n",
              "    <tr>\n",
              "      <th>2020-08-18</th>\n",
              "      <td>3212.00</td>\n",
              "      <td>3320.0000</td>\n",
              "      <td>3205.8187</td>\n",
              "      <td>3312.49</td>\n",
              "      <td>5345974</td>\n",
              "    </tr>\n",
              "    <tr>\n",
              "      <th>2020-08-17</th>\n",
              "      <td>3173.12</td>\n",
              "      <td>3194.9700</td>\n",
              "      <td>3154.1775</td>\n",
              "      <td>3182.41</td>\n",
              "      <td>2691237</td>\n",
              "    </tr>\n",
              "    <tr>\n",
              "      <th>2020-08-14</th>\n",
              "      <td>3178.18</td>\n",
              "      <td>3178.2357</td>\n",
              "      <td>3120.0000</td>\n",
              "      <td>3148.02</td>\n",
              "      <td>2751723</td>\n",
              "    </tr>\n",
              "    <tr>\n",
              "      <th>2020-08-13</th>\n",
              "      <td>3182.99</td>\n",
              "      <td>3217.5211</td>\n",
              "      <td>3155.0000</td>\n",
              "      <td>3161.02</td>\n",
              "      <td>3149043</td>\n",
              "    </tr>\n",
              "    <tr>\n",
              "      <th>2020-08-12</th>\n",
              "      <td>3108.00</td>\n",
              "      <td>3174.3850</td>\n",
              "      <td>3101.4200</td>\n",
              "      <td>3162.24</td>\n",
              "      <td>3527229</td>\n",
              "    </tr>\n",
              "    <tr>\n",
              "      <th>2020-08-11</th>\n",
              "      <td>3113.20</td>\n",
              "      <td>3159.2200</td>\n",
              "      <td>3073.0000</td>\n",
              "      <td>3080.67</td>\n",
              "      <td>3718057</td>\n",
              "    </tr>\n",
              "    <tr>\n",
              "      <th>2020-08-10</th>\n",
              "      <td>3170.31</td>\n",
              "      <td>3172.5100</td>\n",
              "      <td>3101.5200</td>\n",
              "      <td>3148.16</td>\n",
              "      <td>3167274</td>\n",
              "    </tr>\n",
              "    <tr>\n",
              "      <th>2020-08-07</th>\n",
              "      <td>3224.01</td>\n",
              "      <td>3240.8100</td>\n",
              "      <td>3140.6726</td>\n",
              "      <td>3167.46</td>\n",
              "      <td>3936127</td>\n",
              "    </tr>\n",
              "    <tr>\n",
              "      <th>2020-08-06</th>\n",
              "      <td>3194.36</td>\n",
              "      <td>3247.4700</td>\n",
              "      <td>3165.4300</td>\n",
              "      <td>3225.00</td>\n",
              "      <td>3940602</td>\n",
              "    </tr>\n",
              "  </tbody>\n",
              "</table>\n",
              "</div>"
            ],
            "text/plain": [
              "               Open       High        Low    Close   Volume\n",
              "Date                                                       \n",
              "2020-08-19  3303.01  3315.9000  3256.0001  3260.48  4185137\n",
              "2020-08-18  3212.00  3320.0000  3205.8187  3312.49  5345974\n",
              "2020-08-17  3173.12  3194.9700  3154.1775  3182.41  2691237\n",
              "2020-08-14  3178.18  3178.2357  3120.0000  3148.02  2751723\n",
              "2020-08-13  3182.99  3217.5211  3155.0000  3161.02  3149043\n",
              "2020-08-12  3108.00  3174.3850  3101.4200  3162.24  3527229\n",
              "2020-08-11  3113.20  3159.2200  3073.0000  3080.67  3718057\n",
              "2020-08-10  3170.31  3172.5100  3101.5200  3148.16  3167274\n",
              "2020-08-07  3224.01  3240.8100  3140.6726  3167.46  3936127\n",
              "2020-08-06  3194.36  3247.4700  3165.4300  3225.00  3940602"
            ]
          },
          "metadata": {
            "tags": []
          },
          "execution_count": 92
        }
      ]
    },
    {
      "cell_type": "code",
      "metadata": {
        "id": "3IAi-cbT-WPB",
        "colab_type": "code",
        "colab": {
          "base_uri": "https://localhost:8080/",
          "height": 394
        },
        "outputId": "f5487753-76a0-4608-e597-e6cb95c55ad6"
      },
      "source": [
        "df.tail(10)"
      ],
      "execution_count": null,
      "outputs": [
        {
          "output_type": "execute_result",
          "data": {
            "text/html": [
              "<div>\n",
              "<style scoped>\n",
              "    .dataframe tbody tr th:only-of-type {\n",
              "        vertical-align: middle;\n",
              "    }\n",
              "\n",
              "    .dataframe tbody tr th {\n",
              "        vertical-align: top;\n",
              "    }\n",
              "\n",
              "    .dataframe thead th {\n",
              "        text-align: right;\n",
              "    }\n",
              "</style>\n",
              "<table border=\"1\" class=\"dataframe\">\n",
              "  <thead>\n",
              "    <tr style=\"text-align: right;\">\n",
              "      <th></th>\n",
              "      <th>Open</th>\n",
              "      <th>High</th>\n",
              "      <th>Low</th>\n",
              "      <th>Close</th>\n",
              "      <th>Volume</th>\n",
              "    </tr>\n",
              "    <tr>\n",
              "      <th>Date</th>\n",
              "      <th></th>\n",
              "      <th></th>\n",
              "      <th></th>\n",
              "      <th></th>\n",
              "      <th></th>\n",
              "    </tr>\n",
              "  </thead>\n",
              "  <tbody>\n",
              "    <tr>\n",
              "      <th>2015-09-04</th>\n",
              "      <td>497.65</td>\n",
              "      <td>502.85</td>\n",
              "      <td>495.64</td>\n",
              "      <td>499.00</td>\n",
              "      <td>2692500</td>\n",
              "    </tr>\n",
              "    <tr>\n",
              "      <th>2015-09-03</th>\n",
              "      <td>514.50</td>\n",
              "      <td>515.84</td>\n",
              "      <td>502.57</td>\n",
              "      <td>504.72</td>\n",
              "      <td>3149600</td>\n",
              "    </tr>\n",
              "    <tr>\n",
              "      <th>2015-09-02</th>\n",
              "      <td>505.09</td>\n",
              "      <td>510.86</td>\n",
              "      <td>497.72</td>\n",
              "      <td>510.55</td>\n",
              "      <td>3707100</td>\n",
              "    </tr>\n",
              "    <tr>\n",
              "      <th>2015-09-01</th>\n",
              "      <td>499.14</td>\n",
              "      <td>510.00</td>\n",
              "      <td>493.43</td>\n",
              "      <td>496.54</td>\n",
              "      <td>3864500</td>\n",
              "    </tr>\n",
              "    <tr>\n",
              "      <th>2015-08-31</th>\n",
              "      <td>516.44</td>\n",
              "      <td>519.41</td>\n",
              "      <td>509.07</td>\n",
              "      <td>512.89</td>\n",
              "      <td>3002200</td>\n",
              "    </tr>\n",
              "    <tr>\n",
              "      <th>2015-08-28</th>\n",
              "      <td>517.50</td>\n",
              "      <td>521.50</td>\n",
              "      <td>513.04</td>\n",
              "      <td>518.01</td>\n",
              "      <td>2746700</td>\n",
              "    </tr>\n",
              "    <tr>\n",
              "      <th>2015-08-27</th>\n",
              "      <td>513.71</td>\n",
              "      <td>522.69</td>\n",
              "      <td>507.26</td>\n",
              "      <td>518.37</td>\n",
              "      <td>6114500</td>\n",
              "    </tr>\n",
              "    <tr>\n",
              "      <th>2015-08-26</th>\n",
              "      <td>484.02</td>\n",
              "      <td>503.72</td>\n",
              "      <td>478.76</td>\n",
              "      <td>500.77</td>\n",
              "      <td>6358600</td>\n",
              "    </tr>\n",
              "    <tr>\n",
              "      <th>2015-08-25</th>\n",
              "      <td>487.49</td>\n",
              "      <td>489.44</td>\n",
              "      <td>466.25</td>\n",
              "      <td>466.37</td>\n",
              "      <td>5679300</td>\n",
              "    </tr>\n",
              "    <tr>\n",
              "      <th>2015-08-24</th>\n",
              "      <td>463.58</td>\n",
              "      <td>489.76</td>\n",
              "      <td>451.00</td>\n",
              "      <td>463.37</td>\n",
              "      <td>10096277</td>\n",
              "    </tr>\n",
              "  </tbody>\n",
              "</table>\n",
              "</div>"
            ],
            "text/plain": [
              "              Open    High     Low   Close    Volume\n",
              "Date                                                \n",
              "2015-09-04  497.65  502.85  495.64  499.00   2692500\n",
              "2015-09-03  514.50  515.84  502.57  504.72   3149600\n",
              "2015-09-02  505.09  510.86  497.72  510.55   3707100\n",
              "2015-09-01  499.14  510.00  493.43  496.54   3864500\n",
              "2015-08-31  516.44  519.41  509.07  512.89   3002200\n",
              "2015-08-28  517.50  521.50  513.04  518.01   2746700\n",
              "2015-08-27  513.71  522.69  507.26  518.37   6114500\n",
              "2015-08-26  484.02  503.72  478.76  500.77   6358600\n",
              "2015-08-25  487.49  489.44  466.25  466.37   5679300\n",
              "2015-08-24  463.58  489.76  451.00  463.37  10096277"
            ]
          },
          "metadata": {
            "tags": []
          },
          "execution_count": 93
        }
      ]
    },
    {
      "cell_type": "code",
      "metadata": {
        "id": "JI3QP1lRD_ge",
        "colab_type": "code",
        "colab": {
          "base_uri": "https://localhost:8080/",
          "height": 34
        },
        "outputId": "488c0c12-c3dd-45a9-e25a-37354ebaba9e"
      },
      "source": [
        "df.columns"
      ],
      "execution_count": null,
      "outputs": [
        {
          "output_type": "execute_result",
          "data": {
            "text/plain": [
              "Index(['Open', 'High', 'Low', 'Close', 'Volume'], dtype='object')"
            ]
          },
          "metadata": {
            "tags": []
          },
          "execution_count": 94
        }
      ]
    },
    {
      "cell_type": "code",
      "metadata": {
        "id": "6lmzPv3TEQJe",
        "colab_type": "code",
        "colab": {
          "base_uri": "https://localhost:8080/",
          "height": 238
        },
        "outputId": "b6a5fd5f-c8fb-46e9-8273-16c222278452"
      },
      "source": [
        "df.columns = [col.lower() for col in df.columns]\n",
        "df.head()"
      ],
      "execution_count": null,
      "outputs": [
        {
          "output_type": "execute_result",
          "data": {
            "text/html": [
              "<div>\n",
              "<style scoped>\n",
              "    .dataframe tbody tr th:only-of-type {\n",
              "        vertical-align: middle;\n",
              "    }\n",
              "\n",
              "    .dataframe tbody tr th {\n",
              "        vertical-align: top;\n",
              "    }\n",
              "\n",
              "    .dataframe thead th {\n",
              "        text-align: right;\n",
              "    }\n",
              "</style>\n",
              "<table border=\"1\" class=\"dataframe\">\n",
              "  <thead>\n",
              "    <tr style=\"text-align: right;\">\n",
              "      <th></th>\n",
              "      <th>open</th>\n",
              "      <th>high</th>\n",
              "      <th>low</th>\n",
              "      <th>close</th>\n",
              "      <th>volume</th>\n",
              "    </tr>\n",
              "    <tr>\n",
              "      <th>Date</th>\n",
              "      <th></th>\n",
              "      <th></th>\n",
              "      <th></th>\n",
              "      <th></th>\n",
              "      <th></th>\n",
              "    </tr>\n",
              "  </thead>\n",
              "  <tbody>\n",
              "    <tr>\n",
              "      <th>2020-08-19</th>\n",
              "      <td>3303.01</td>\n",
              "      <td>3315.9000</td>\n",
              "      <td>3256.0001</td>\n",
              "      <td>3260.48</td>\n",
              "      <td>4185137</td>\n",
              "    </tr>\n",
              "    <tr>\n",
              "      <th>2020-08-18</th>\n",
              "      <td>3212.00</td>\n",
              "      <td>3320.0000</td>\n",
              "      <td>3205.8187</td>\n",
              "      <td>3312.49</td>\n",
              "      <td>5345974</td>\n",
              "    </tr>\n",
              "    <tr>\n",
              "      <th>2020-08-17</th>\n",
              "      <td>3173.12</td>\n",
              "      <td>3194.9700</td>\n",
              "      <td>3154.1775</td>\n",
              "      <td>3182.41</td>\n",
              "      <td>2691237</td>\n",
              "    </tr>\n",
              "    <tr>\n",
              "      <th>2020-08-14</th>\n",
              "      <td>3178.18</td>\n",
              "      <td>3178.2357</td>\n",
              "      <td>3120.0000</td>\n",
              "      <td>3148.02</td>\n",
              "      <td>2751723</td>\n",
              "    </tr>\n",
              "    <tr>\n",
              "      <th>2020-08-13</th>\n",
              "      <td>3182.99</td>\n",
              "      <td>3217.5211</td>\n",
              "      <td>3155.0000</td>\n",
              "      <td>3161.02</td>\n",
              "      <td>3149043</td>\n",
              "    </tr>\n",
              "  </tbody>\n",
              "</table>\n",
              "</div>"
            ],
            "text/plain": [
              "               open       high        low    close   volume\n",
              "Date                                                       \n",
              "2020-08-19  3303.01  3315.9000  3256.0001  3260.48  4185137\n",
              "2020-08-18  3212.00  3320.0000  3205.8187  3312.49  5345974\n",
              "2020-08-17  3173.12  3194.9700  3154.1775  3182.41  2691237\n",
              "2020-08-14  3178.18  3178.2357  3120.0000  3148.02  2751723\n",
              "2020-08-13  3182.99  3217.5211  3155.0000  3161.02  3149043"
            ]
          },
          "metadata": {
            "tags": []
          },
          "execution_count": 95
        }
      ]
    },
    {
      "cell_type": "code",
      "metadata": {
        "id": "GOb9HXq9EtCo",
        "colab_type": "code",
        "colab": {
          "base_uri": "https://localhost:8080/",
          "height": 300
        },
        "outputId": "c65a23c5-7265-49c3-b018-0c0b74187397"
      },
      "source": [
        "df.describe()\n"
      ],
      "execution_count": null,
      "outputs": [
        {
          "output_type": "execute_result",
          "data": {
            "text/html": [
              "<div>\n",
              "<style scoped>\n",
              "    .dataframe tbody tr th:only-of-type {\n",
              "        vertical-align: middle;\n",
              "    }\n",
              "\n",
              "    .dataframe tbody tr th {\n",
              "        vertical-align: top;\n",
              "    }\n",
              "\n",
              "    .dataframe thead th {\n",
              "        text-align: right;\n",
              "    }\n",
              "</style>\n",
              "<table border=\"1\" class=\"dataframe\">\n",
              "  <thead>\n",
              "    <tr style=\"text-align: right;\">\n",
              "      <th></th>\n",
              "      <th>open</th>\n",
              "      <th>high</th>\n",
              "      <th>low</th>\n",
              "      <th>close</th>\n",
              "      <th>volume</th>\n",
              "    </tr>\n",
              "  </thead>\n",
              "  <tbody>\n",
              "    <tr>\n",
              "      <th>count</th>\n",
              "      <td>1257.000000</td>\n",
              "      <td>1257.000000</td>\n",
              "      <td>1257.000000</td>\n",
              "      <td>1257.000000</td>\n",
              "      <td>1.257000e+03</td>\n",
              "    </tr>\n",
              "    <tr>\n",
              "      <th>mean</th>\n",
              "      <td>1366.007043</td>\n",
              "      <td>1380.009502</td>\n",
              "      <td>1350.430204</td>\n",
              "      <td>1366.107172</td>\n",
              "      <td>4.271428e+06</td>\n",
              "    </tr>\n",
              "    <tr>\n",
              "      <th>std</th>\n",
              "      <td>621.833139</td>\n",
              "      <td>630.298554</td>\n",
              "      <td>612.956088</td>\n",
              "      <td>622.046749</td>\n",
              "      <td>2.149771e+06</td>\n",
              "    </tr>\n",
              "    <tr>\n",
              "      <th>min</th>\n",
              "      <td>463.580000</td>\n",
              "      <td>489.440000</td>\n",
              "      <td>451.000000</td>\n",
              "      <td>463.370000</td>\n",
              "      <td>8.813370e+05</td>\n",
              "    </tr>\n",
              "    <tr>\n",
              "      <th>25%</th>\n",
              "      <td>783.890000</td>\n",
              "      <td>790.690000</td>\n",
              "      <td>778.480000</td>\n",
              "      <td>785.330000</td>\n",
              "      <td>2.818948e+06</td>\n",
              "    </tr>\n",
              "    <tr>\n",
              "      <th>50%</th>\n",
              "      <td>1429.970000</td>\n",
              "      <td>1452.120000</td>\n",
              "      <td>1392.000000</td>\n",
              "      <td>1429.950000</td>\n",
              "      <td>3.707785e+06</td>\n",
              "    </tr>\n",
              "    <tr>\n",
              "      <th>75%</th>\n",
              "      <td>1811.020000</td>\n",
              "      <td>1826.000000</td>\n",
              "      <td>1797.310000</td>\n",
              "      <td>1812.970000</td>\n",
              "      <td>5.114403e+06</td>\n",
              "    </tr>\n",
              "    <tr>\n",
              "      <th>max</th>\n",
              "      <td>3303.010000</td>\n",
              "      <td>3344.290000</td>\n",
              "      <td>3256.000100</td>\n",
              "      <td>3312.490000</td>\n",
              "      <td>1.655260e+07</td>\n",
              "    </tr>\n",
              "  </tbody>\n",
              "</table>\n",
              "</div>"
            ],
            "text/plain": [
              "              open         high          low        close        volume\n",
              "count  1257.000000  1257.000000  1257.000000  1257.000000  1.257000e+03\n",
              "mean   1366.007043  1380.009502  1350.430204  1366.107172  4.271428e+06\n",
              "std     621.833139   630.298554   612.956088   622.046749  2.149771e+06\n",
              "min     463.580000   489.440000   451.000000   463.370000  8.813370e+05\n",
              "25%     783.890000   790.690000   778.480000   785.330000  2.818948e+06\n",
              "50%    1429.970000  1452.120000  1392.000000  1429.950000  3.707785e+06\n",
              "75%    1811.020000  1826.000000  1797.310000  1812.970000  5.114403e+06\n",
              "max    3303.010000  3344.290000  3256.000100  3312.490000  1.655260e+07"
            ]
          },
          "metadata": {
            "tags": []
          },
          "execution_count": 96
        }
      ]
    },
    {
      "cell_type": "code",
      "metadata": {
        "id": "Yia_sTFpHjAj",
        "colab_type": "code",
        "colab": {
          "base_uri": "https://localhost:8080/",
          "height": 206
        },
        "outputId": "5024d5c2-7f9d-480c-dc0b-6138f3752d71"
      },
      "source": [
        "df.describe().T"
      ],
      "execution_count": null,
      "outputs": [
        {
          "output_type": "execute_result",
          "data": {
            "text/html": [
              "<div>\n",
              "<style scoped>\n",
              "    .dataframe tbody tr th:only-of-type {\n",
              "        vertical-align: middle;\n",
              "    }\n",
              "\n",
              "    .dataframe tbody tr th {\n",
              "        vertical-align: top;\n",
              "    }\n",
              "\n",
              "    .dataframe thead th {\n",
              "        text-align: right;\n",
              "    }\n",
              "</style>\n",
              "<table border=\"1\" class=\"dataframe\">\n",
              "  <thead>\n",
              "    <tr style=\"text-align: right;\">\n",
              "      <th></th>\n",
              "      <th>count</th>\n",
              "      <th>mean</th>\n",
              "      <th>std</th>\n",
              "      <th>min</th>\n",
              "      <th>25%</th>\n",
              "      <th>50%</th>\n",
              "      <th>75%</th>\n",
              "      <th>max</th>\n",
              "    </tr>\n",
              "  </thead>\n",
              "  <tbody>\n",
              "    <tr>\n",
              "      <th>open</th>\n",
              "      <td>1257.0</td>\n",
              "      <td>1.366007e+03</td>\n",
              "      <td>6.218331e+02</td>\n",
              "      <td>463.58</td>\n",
              "      <td>783.89</td>\n",
              "      <td>1429.97</td>\n",
              "      <td>1811.02</td>\n",
              "      <td>3.303010e+03</td>\n",
              "    </tr>\n",
              "    <tr>\n",
              "      <th>high</th>\n",
              "      <td>1257.0</td>\n",
              "      <td>1.380010e+03</td>\n",
              "      <td>6.302986e+02</td>\n",
              "      <td>489.44</td>\n",
              "      <td>790.69</td>\n",
              "      <td>1452.12</td>\n",
              "      <td>1826.00</td>\n",
              "      <td>3.344290e+03</td>\n",
              "    </tr>\n",
              "    <tr>\n",
              "      <th>low</th>\n",
              "      <td>1257.0</td>\n",
              "      <td>1.350430e+03</td>\n",
              "      <td>6.129561e+02</td>\n",
              "      <td>451.00</td>\n",
              "      <td>778.48</td>\n",
              "      <td>1392.00</td>\n",
              "      <td>1797.31</td>\n",
              "      <td>3.256000e+03</td>\n",
              "    </tr>\n",
              "    <tr>\n",
              "      <th>close</th>\n",
              "      <td>1257.0</td>\n",
              "      <td>1.366107e+03</td>\n",
              "      <td>6.220467e+02</td>\n",
              "      <td>463.37</td>\n",
              "      <td>785.33</td>\n",
              "      <td>1429.95</td>\n",
              "      <td>1812.97</td>\n",
              "      <td>3.312490e+03</td>\n",
              "    </tr>\n",
              "    <tr>\n",
              "      <th>volume</th>\n",
              "      <td>1257.0</td>\n",
              "      <td>4.271428e+06</td>\n",
              "      <td>2.149771e+06</td>\n",
              "      <td>881337.00</td>\n",
              "      <td>2818948.00</td>\n",
              "      <td>3707785.00</td>\n",
              "      <td>5114403.00</td>\n",
              "      <td>1.655260e+07</td>\n",
              "    </tr>\n",
              "  </tbody>\n",
              "</table>\n",
              "</div>"
            ],
            "text/plain": [
              "         count          mean  ...         75%           max\n",
              "open    1257.0  1.366007e+03  ...     1811.02  3.303010e+03\n",
              "high    1257.0  1.380010e+03  ...     1826.00  3.344290e+03\n",
              "low     1257.0  1.350430e+03  ...     1797.31  3.256000e+03\n",
              "close   1257.0  1.366107e+03  ...     1812.97  3.312490e+03\n",
              "volume  1257.0  4.271428e+06  ...  5114403.00  1.655260e+07\n",
              "\n",
              "[5 rows x 8 columns]"
            ]
          },
          "metadata": {
            "tags": []
          },
          "execution_count": 97
        }
      ]
    },
    {
      "cell_type": "code",
      "metadata": {
        "id": "z2Ha-pKEHrcG",
        "colab_type": "code",
        "colab": {}
      },
      "source": [
        "df = df.head(10)"
      ],
      "execution_count": null,
      "outputs": []
    },
    {
      "cell_type": "code",
      "metadata": {
        "id": "TX6lbS3FItEC",
        "colab_type": "code",
        "colab": {
          "base_uri": "https://localhost:8080/",
          "height": 394
        },
        "outputId": "c61637cc-6ae8-46f2-85b5-bfc0ef362d53"
      },
      "source": [
        "df"
      ],
      "execution_count": null,
      "outputs": [
        {
          "output_type": "execute_result",
          "data": {
            "text/html": [
              "<div>\n",
              "<style scoped>\n",
              "    .dataframe tbody tr th:only-of-type {\n",
              "        vertical-align: middle;\n",
              "    }\n",
              "\n",
              "    .dataframe tbody tr th {\n",
              "        vertical-align: top;\n",
              "    }\n",
              "\n",
              "    .dataframe thead th {\n",
              "        text-align: right;\n",
              "    }\n",
              "</style>\n",
              "<table border=\"1\" class=\"dataframe\">\n",
              "  <thead>\n",
              "    <tr style=\"text-align: right;\">\n",
              "      <th></th>\n",
              "      <th>open</th>\n",
              "      <th>high</th>\n",
              "      <th>low</th>\n",
              "      <th>close</th>\n",
              "      <th>volume</th>\n",
              "    </tr>\n",
              "    <tr>\n",
              "      <th>Date</th>\n",
              "      <th></th>\n",
              "      <th></th>\n",
              "      <th></th>\n",
              "      <th></th>\n",
              "      <th></th>\n",
              "    </tr>\n",
              "  </thead>\n",
              "  <tbody>\n",
              "    <tr>\n",
              "      <th>2020-08-19</th>\n",
              "      <td>3303.01</td>\n",
              "      <td>3315.9000</td>\n",
              "      <td>3256.0001</td>\n",
              "      <td>3260.48</td>\n",
              "      <td>4185137</td>\n",
              "    </tr>\n",
              "    <tr>\n",
              "      <th>2020-08-18</th>\n",
              "      <td>3212.00</td>\n",
              "      <td>3320.0000</td>\n",
              "      <td>3205.8187</td>\n",
              "      <td>3312.49</td>\n",
              "      <td>5345974</td>\n",
              "    </tr>\n",
              "    <tr>\n",
              "      <th>2020-08-17</th>\n",
              "      <td>3173.12</td>\n",
              "      <td>3194.9700</td>\n",
              "      <td>3154.1775</td>\n",
              "      <td>3182.41</td>\n",
              "      <td>2691237</td>\n",
              "    </tr>\n",
              "    <tr>\n",
              "      <th>2020-08-14</th>\n",
              "      <td>3178.18</td>\n",
              "      <td>3178.2357</td>\n",
              "      <td>3120.0000</td>\n",
              "      <td>3148.02</td>\n",
              "      <td>2751723</td>\n",
              "    </tr>\n",
              "    <tr>\n",
              "      <th>2020-08-13</th>\n",
              "      <td>3182.99</td>\n",
              "      <td>3217.5211</td>\n",
              "      <td>3155.0000</td>\n",
              "      <td>3161.02</td>\n",
              "      <td>3149043</td>\n",
              "    </tr>\n",
              "    <tr>\n",
              "      <th>2020-08-12</th>\n",
              "      <td>3108.00</td>\n",
              "      <td>3174.3850</td>\n",
              "      <td>3101.4200</td>\n",
              "      <td>3162.24</td>\n",
              "      <td>3527229</td>\n",
              "    </tr>\n",
              "    <tr>\n",
              "      <th>2020-08-11</th>\n",
              "      <td>3113.20</td>\n",
              "      <td>3159.2200</td>\n",
              "      <td>3073.0000</td>\n",
              "      <td>3080.67</td>\n",
              "      <td>3718057</td>\n",
              "    </tr>\n",
              "    <tr>\n",
              "      <th>2020-08-10</th>\n",
              "      <td>3170.31</td>\n",
              "      <td>3172.5100</td>\n",
              "      <td>3101.5200</td>\n",
              "      <td>3148.16</td>\n",
              "      <td>3167274</td>\n",
              "    </tr>\n",
              "    <tr>\n",
              "      <th>2020-08-07</th>\n",
              "      <td>3224.01</td>\n",
              "      <td>3240.8100</td>\n",
              "      <td>3140.6726</td>\n",
              "      <td>3167.46</td>\n",
              "      <td>3936127</td>\n",
              "    </tr>\n",
              "    <tr>\n",
              "      <th>2020-08-06</th>\n",
              "      <td>3194.36</td>\n",
              "      <td>3247.4700</td>\n",
              "      <td>3165.4300</td>\n",
              "      <td>3225.00</td>\n",
              "      <td>3940602</td>\n",
              "    </tr>\n",
              "  </tbody>\n",
              "</table>\n",
              "</div>"
            ],
            "text/plain": [
              "               open       high        low    close   volume\n",
              "Date                                                       \n",
              "2020-08-19  3303.01  3315.9000  3256.0001  3260.48  4185137\n",
              "2020-08-18  3212.00  3320.0000  3205.8187  3312.49  5345974\n",
              "2020-08-17  3173.12  3194.9700  3154.1775  3182.41  2691237\n",
              "2020-08-14  3178.18  3178.2357  3120.0000  3148.02  2751723\n",
              "2020-08-13  3182.99  3217.5211  3155.0000  3161.02  3149043\n",
              "2020-08-12  3108.00  3174.3850  3101.4200  3162.24  3527229\n",
              "2020-08-11  3113.20  3159.2200  3073.0000  3080.67  3718057\n",
              "2020-08-10  3170.31  3172.5100  3101.5200  3148.16  3167274\n",
              "2020-08-07  3224.01  3240.8100  3140.6726  3167.46  3936127\n",
              "2020-08-06  3194.36  3247.4700  3165.4300  3225.00  3940602"
            ]
          },
          "metadata": {
            "tags": []
          },
          "execution_count": 99
        }
      ]
    },
    {
      "cell_type": "code",
      "metadata": {
        "id": "cpw9o0enIuY7",
        "colab_type": "code",
        "colab": {
          "base_uri": "https://localhost:8080/",
          "height": 225
        },
        "outputId": "f015bf24-cfb4-43b1-adf5-a5a2170abc97"
      },
      "source": [
        "df['open']"
      ],
      "execution_count": null,
      "outputs": [
        {
          "output_type": "execute_result",
          "data": {
            "text/plain": [
              "Date\n",
              "2020-08-19    3303.01\n",
              "2020-08-18    3212.00\n",
              "2020-08-17    3173.12\n",
              "2020-08-14    3178.18\n",
              "2020-08-13    3182.99\n",
              "2020-08-12    3108.00\n",
              "2020-08-11    3113.20\n",
              "2020-08-10    3170.31\n",
              "2020-08-07    3224.01\n",
              "2020-08-06    3194.36\n",
              "Name: open, dtype: float64"
            ]
          },
          "metadata": {
            "tags": []
          },
          "execution_count": 100
        }
      ]
    },
    {
      "cell_type": "code",
      "metadata": {
        "id": "8NOTqE6yI237",
        "colab_type": "code",
        "colab": {
          "base_uri": "https://localhost:8080/",
          "height": 225
        },
        "outputId": "2db954fe-65cd-4426-8f05-953a87a119e2"
      },
      "source": [
        "df.open"
      ],
      "execution_count": null,
      "outputs": [
        {
          "output_type": "execute_result",
          "data": {
            "text/plain": [
              "Date\n",
              "2020-08-19    3303.01\n",
              "2020-08-18    3212.00\n",
              "2020-08-17    3173.12\n",
              "2020-08-14    3178.18\n",
              "2020-08-13    3182.99\n",
              "2020-08-12    3108.00\n",
              "2020-08-11    3113.20\n",
              "2020-08-10    3170.31\n",
              "2020-08-07    3224.01\n",
              "2020-08-06    3194.36\n",
              "Name: open, dtype: float64"
            ]
          },
          "metadata": {
            "tags": []
          },
          "execution_count": 101
        }
      ]
    },
    {
      "cell_type": "code",
      "metadata": {
        "id": "RVlmQTRvI5g9",
        "colab_type": "code",
        "colab": {
          "base_uri": "https://localhost:8080/",
          "height": 394
        },
        "outputId": "482cc350-5c9c-4c68-975e-146cee05bac8"
      },
      "source": [
        "df[['open']]"
      ],
      "execution_count": null,
      "outputs": [
        {
          "output_type": "execute_result",
          "data": {
            "text/html": [
              "<div>\n",
              "<style scoped>\n",
              "    .dataframe tbody tr th:only-of-type {\n",
              "        vertical-align: middle;\n",
              "    }\n",
              "\n",
              "    .dataframe tbody tr th {\n",
              "        vertical-align: top;\n",
              "    }\n",
              "\n",
              "    .dataframe thead th {\n",
              "        text-align: right;\n",
              "    }\n",
              "</style>\n",
              "<table border=\"1\" class=\"dataframe\">\n",
              "  <thead>\n",
              "    <tr style=\"text-align: right;\">\n",
              "      <th></th>\n",
              "      <th>open</th>\n",
              "    </tr>\n",
              "    <tr>\n",
              "      <th>Date</th>\n",
              "      <th></th>\n",
              "    </tr>\n",
              "  </thead>\n",
              "  <tbody>\n",
              "    <tr>\n",
              "      <th>2020-08-19</th>\n",
              "      <td>3303.01</td>\n",
              "    </tr>\n",
              "    <tr>\n",
              "      <th>2020-08-18</th>\n",
              "      <td>3212.00</td>\n",
              "    </tr>\n",
              "    <tr>\n",
              "      <th>2020-08-17</th>\n",
              "      <td>3173.12</td>\n",
              "    </tr>\n",
              "    <tr>\n",
              "      <th>2020-08-14</th>\n",
              "      <td>3178.18</td>\n",
              "    </tr>\n",
              "    <tr>\n",
              "      <th>2020-08-13</th>\n",
              "      <td>3182.99</td>\n",
              "    </tr>\n",
              "    <tr>\n",
              "      <th>2020-08-12</th>\n",
              "      <td>3108.00</td>\n",
              "    </tr>\n",
              "    <tr>\n",
              "      <th>2020-08-11</th>\n",
              "      <td>3113.20</td>\n",
              "    </tr>\n",
              "    <tr>\n",
              "      <th>2020-08-10</th>\n",
              "      <td>3170.31</td>\n",
              "    </tr>\n",
              "    <tr>\n",
              "      <th>2020-08-07</th>\n",
              "      <td>3224.01</td>\n",
              "    </tr>\n",
              "    <tr>\n",
              "      <th>2020-08-06</th>\n",
              "      <td>3194.36</td>\n",
              "    </tr>\n",
              "  </tbody>\n",
              "</table>\n",
              "</div>"
            ],
            "text/plain": [
              "               open\n",
              "Date               \n",
              "2020-08-19  3303.01\n",
              "2020-08-18  3212.00\n",
              "2020-08-17  3173.12\n",
              "2020-08-14  3178.18\n",
              "2020-08-13  3182.99\n",
              "2020-08-12  3108.00\n",
              "2020-08-11  3113.20\n",
              "2020-08-10  3170.31\n",
              "2020-08-07  3224.01\n",
              "2020-08-06  3194.36"
            ]
          },
          "metadata": {
            "tags": []
          },
          "execution_count": 102
        }
      ]
    },
    {
      "cell_type": "code",
      "metadata": {
        "id": "jDKiVSmaJClM",
        "colab_type": "code",
        "colab": {
          "base_uri": "https://localhost:8080/",
          "height": 225
        },
        "outputId": "7740d066-c554-4ad2-dd14-8921c31ce859"
      },
      "source": [
        "df.iloc[:, 0]"
      ],
      "execution_count": null,
      "outputs": [
        {
          "output_type": "execute_result",
          "data": {
            "text/plain": [
              "Date\n",
              "2020-08-19    3303.01\n",
              "2020-08-18    3212.00\n",
              "2020-08-17    3173.12\n",
              "2020-08-14    3178.18\n",
              "2020-08-13    3182.99\n",
              "2020-08-12    3108.00\n",
              "2020-08-11    3113.20\n",
              "2020-08-10    3170.31\n",
              "2020-08-07    3224.01\n",
              "2020-08-06    3194.36\n",
              "Name: open, dtype: float64"
            ]
          },
          "metadata": {
            "tags": []
          },
          "execution_count": 103
        }
      ]
    },
    {
      "cell_type": "code",
      "metadata": {
        "id": "atWxkeWaJWs-",
        "colab_type": "code",
        "colab": {
          "base_uri": "https://localhost:8080/",
          "height": 394
        },
        "outputId": "f2c3efa4-599d-4253-8e1a-bc8e55d11b73"
      },
      "source": [
        "df.iloc[:, [0, 3]]"
      ],
      "execution_count": null,
      "outputs": [
        {
          "output_type": "execute_result",
          "data": {
            "text/html": [
              "<div>\n",
              "<style scoped>\n",
              "    .dataframe tbody tr th:only-of-type {\n",
              "        vertical-align: middle;\n",
              "    }\n",
              "\n",
              "    .dataframe tbody tr th {\n",
              "        vertical-align: top;\n",
              "    }\n",
              "\n",
              "    .dataframe thead th {\n",
              "        text-align: right;\n",
              "    }\n",
              "</style>\n",
              "<table border=\"1\" class=\"dataframe\">\n",
              "  <thead>\n",
              "    <tr style=\"text-align: right;\">\n",
              "      <th></th>\n",
              "      <th>open</th>\n",
              "      <th>close</th>\n",
              "    </tr>\n",
              "    <tr>\n",
              "      <th>Date</th>\n",
              "      <th></th>\n",
              "      <th></th>\n",
              "    </tr>\n",
              "  </thead>\n",
              "  <tbody>\n",
              "    <tr>\n",
              "      <th>2020-08-19</th>\n",
              "      <td>3303.01</td>\n",
              "      <td>3260.48</td>\n",
              "    </tr>\n",
              "    <tr>\n",
              "      <th>2020-08-18</th>\n",
              "      <td>3212.00</td>\n",
              "      <td>3312.49</td>\n",
              "    </tr>\n",
              "    <tr>\n",
              "      <th>2020-08-17</th>\n",
              "      <td>3173.12</td>\n",
              "      <td>3182.41</td>\n",
              "    </tr>\n",
              "    <tr>\n",
              "      <th>2020-08-14</th>\n",
              "      <td>3178.18</td>\n",
              "      <td>3148.02</td>\n",
              "    </tr>\n",
              "    <tr>\n",
              "      <th>2020-08-13</th>\n",
              "      <td>3182.99</td>\n",
              "      <td>3161.02</td>\n",
              "    </tr>\n",
              "    <tr>\n",
              "      <th>2020-08-12</th>\n",
              "      <td>3108.00</td>\n",
              "      <td>3162.24</td>\n",
              "    </tr>\n",
              "    <tr>\n",
              "      <th>2020-08-11</th>\n",
              "      <td>3113.20</td>\n",
              "      <td>3080.67</td>\n",
              "    </tr>\n",
              "    <tr>\n",
              "      <th>2020-08-10</th>\n",
              "      <td>3170.31</td>\n",
              "      <td>3148.16</td>\n",
              "    </tr>\n",
              "    <tr>\n",
              "      <th>2020-08-07</th>\n",
              "      <td>3224.01</td>\n",
              "      <td>3167.46</td>\n",
              "    </tr>\n",
              "    <tr>\n",
              "      <th>2020-08-06</th>\n",
              "      <td>3194.36</td>\n",
              "      <td>3225.00</td>\n",
              "    </tr>\n",
              "  </tbody>\n",
              "</table>\n",
              "</div>"
            ],
            "text/plain": [
              "               open    close\n",
              "Date                        \n",
              "2020-08-19  3303.01  3260.48\n",
              "2020-08-18  3212.00  3312.49\n",
              "2020-08-17  3173.12  3182.41\n",
              "2020-08-14  3178.18  3148.02\n",
              "2020-08-13  3182.99  3161.02\n",
              "2020-08-12  3108.00  3162.24\n",
              "2020-08-11  3113.20  3080.67\n",
              "2020-08-10  3170.31  3148.16\n",
              "2020-08-07  3224.01  3167.46\n",
              "2020-08-06  3194.36  3225.00"
            ]
          },
          "metadata": {
            "tags": []
          },
          "execution_count": 104
        }
      ]
    },
    {
      "cell_type": "code",
      "metadata": {
        "id": "_7TpXN21JgDG",
        "colab_type": "code",
        "colab": {
          "base_uri": "https://localhost:8080/",
          "height": 394
        },
        "outputId": "4c35127d-38b4-4ed8-8336-5d14a2ee8e9b"
      },
      "source": [
        "df.iloc[:, 3:5]"
      ],
      "execution_count": null,
      "outputs": [
        {
          "output_type": "execute_result",
          "data": {
            "text/html": [
              "<div>\n",
              "<style scoped>\n",
              "    .dataframe tbody tr th:only-of-type {\n",
              "        vertical-align: middle;\n",
              "    }\n",
              "\n",
              "    .dataframe tbody tr th {\n",
              "        vertical-align: top;\n",
              "    }\n",
              "\n",
              "    .dataframe thead th {\n",
              "        text-align: right;\n",
              "    }\n",
              "</style>\n",
              "<table border=\"1\" class=\"dataframe\">\n",
              "  <thead>\n",
              "    <tr style=\"text-align: right;\">\n",
              "      <th></th>\n",
              "      <th>close</th>\n",
              "      <th>volume</th>\n",
              "    </tr>\n",
              "    <tr>\n",
              "      <th>Date</th>\n",
              "      <th></th>\n",
              "      <th></th>\n",
              "    </tr>\n",
              "  </thead>\n",
              "  <tbody>\n",
              "    <tr>\n",
              "      <th>2020-08-19</th>\n",
              "      <td>3260.48</td>\n",
              "      <td>4185137</td>\n",
              "    </tr>\n",
              "    <tr>\n",
              "      <th>2020-08-18</th>\n",
              "      <td>3312.49</td>\n",
              "      <td>5345974</td>\n",
              "    </tr>\n",
              "    <tr>\n",
              "      <th>2020-08-17</th>\n",
              "      <td>3182.41</td>\n",
              "      <td>2691237</td>\n",
              "    </tr>\n",
              "    <tr>\n",
              "      <th>2020-08-14</th>\n",
              "      <td>3148.02</td>\n",
              "      <td>2751723</td>\n",
              "    </tr>\n",
              "    <tr>\n",
              "      <th>2020-08-13</th>\n",
              "      <td>3161.02</td>\n",
              "      <td>3149043</td>\n",
              "    </tr>\n",
              "    <tr>\n",
              "      <th>2020-08-12</th>\n",
              "      <td>3162.24</td>\n",
              "      <td>3527229</td>\n",
              "    </tr>\n",
              "    <tr>\n",
              "      <th>2020-08-11</th>\n",
              "      <td>3080.67</td>\n",
              "      <td>3718057</td>\n",
              "    </tr>\n",
              "    <tr>\n",
              "      <th>2020-08-10</th>\n",
              "      <td>3148.16</td>\n",
              "      <td>3167274</td>\n",
              "    </tr>\n",
              "    <tr>\n",
              "      <th>2020-08-07</th>\n",
              "      <td>3167.46</td>\n",
              "      <td>3936127</td>\n",
              "    </tr>\n",
              "    <tr>\n",
              "      <th>2020-08-06</th>\n",
              "      <td>3225.00</td>\n",
              "      <td>3940602</td>\n",
              "    </tr>\n",
              "  </tbody>\n",
              "</table>\n",
              "</div>"
            ],
            "text/plain": [
              "              close   volume\n",
              "Date                        \n",
              "2020-08-19  3260.48  4185137\n",
              "2020-08-18  3312.49  5345974\n",
              "2020-08-17  3182.41  2691237\n",
              "2020-08-14  3148.02  2751723\n",
              "2020-08-13  3161.02  3149043\n",
              "2020-08-12  3162.24  3527229\n",
              "2020-08-11  3080.67  3718057\n",
              "2020-08-10  3148.16  3167274\n",
              "2020-08-07  3167.46  3936127\n",
              "2020-08-06  3225.00  3940602"
            ]
          },
          "metadata": {
            "tags": []
          },
          "execution_count": 105
        }
      ]
    },
    {
      "cell_type": "code",
      "metadata": {
        "id": "J6yWDbrBPEHs",
        "colab_type": "code",
        "colab": {
          "base_uri": "https://localhost:8080/",
          "height": 394
        },
        "outputId": "6e007ac8-642b-4819-984b-5c2f1ba10d49"
      },
      "source": [
        "df.iloc[:, [-1]]"
      ],
      "execution_count": null,
      "outputs": [
        {
          "output_type": "execute_result",
          "data": {
            "text/html": [
              "<div>\n",
              "<style scoped>\n",
              "    .dataframe tbody tr th:only-of-type {\n",
              "        vertical-align: middle;\n",
              "    }\n",
              "\n",
              "    .dataframe tbody tr th {\n",
              "        vertical-align: top;\n",
              "    }\n",
              "\n",
              "    .dataframe thead th {\n",
              "        text-align: right;\n",
              "    }\n",
              "</style>\n",
              "<table border=\"1\" class=\"dataframe\">\n",
              "  <thead>\n",
              "    <tr style=\"text-align: right;\">\n",
              "      <th></th>\n",
              "      <th>volume</th>\n",
              "    </tr>\n",
              "    <tr>\n",
              "      <th>Date</th>\n",
              "      <th></th>\n",
              "    </tr>\n",
              "  </thead>\n",
              "  <tbody>\n",
              "    <tr>\n",
              "      <th>2020-08-19</th>\n",
              "      <td>4185137</td>\n",
              "    </tr>\n",
              "    <tr>\n",
              "      <th>2020-08-18</th>\n",
              "      <td>5345974</td>\n",
              "    </tr>\n",
              "    <tr>\n",
              "      <th>2020-08-17</th>\n",
              "      <td>2691237</td>\n",
              "    </tr>\n",
              "    <tr>\n",
              "      <th>2020-08-14</th>\n",
              "      <td>2751723</td>\n",
              "    </tr>\n",
              "    <tr>\n",
              "      <th>2020-08-13</th>\n",
              "      <td>3149043</td>\n",
              "    </tr>\n",
              "    <tr>\n",
              "      <th>2020-08-12</th>\n",
              "      <td>3527229</td>\n",
              "    </tr>\n",
              "    <tr>\n",
              "      <th>2020-08-11</th>\n",
              "      <td>3718057</td>\n",
              "    </tr>\n",
              "    <tr>\n",
              "      <th>2020-08-10</th>\n",
              "      <td>3167274</td>\n",
              "    </tr>\n",
              "    <tr>\n",
              "      <th>2020-08-07</th>\n",
              "      <td>3936127</td>\n",
              "    </tr>\n",
              "    <tr>\n",
              "      <th>2020-08-06</th>\n",
              "      <td>3940602</td>\n",
              "    </tr>\n",
              "  </tbody>\n",
              "</table>\n",
              "</div>"
            ],
            "text/plain": [
              "             volume\n",
              "Date               \n",
              "2020-08-19  4185137\n",
              "2020-08-18  5345974\n",
              "2020-08-17  2691237\n",
              "2020-08-14  2751723\n",
              "2020-08-13  3149043\n",
              "2020-08-12  3527229\n",
              "2020-08-11  3718057\n",
              "2020-08-10  3167274\n",
              "2020-08-07  3936127\n",
              "2020-08-06  3940602"
            ]
          },
          "metadata": {
            "tags": []
          },
          "execution_count": 106
        }
      ]
    },
    {
      "cell_type": "code",
      "metadata": {
        "id": "mlxmi5UaPW_a",
        "colab_type": "code",
        "colab": {
          "base_uri": "https://localhost:8080/",
          "height": 394
        },
        "outputId": "badb1112-0977-4f38-db92-3dbc9a43bff7"
      },
      "source": [
        "df.iloc[:, -3:]"
      ],
      "execution_count": null,
      "outputs": [
        {
          "output_type": "execute_result",
          "data": {
            "text/html": [
              "<div>\n",
              "<style scoped>\n",
              "    .dataframe tbody tr th:only-of-type {\n",
              "        vertical-align: middle;\n",
              "    }\n",
              "\n",
              "    .dataframe tbody tr th {\n",
              "        vertical-align: top;\n",
              "    }\n",
              "\n",
              "    .dataframe thead th {\n",
              "        text-align: right;\n",
              "    }\n",
              "</style>\n",
              "<table border=\"1\" class=\"dataframe\">\n",
              "  <thead>\n",
              "    <tr style=\"text-align: right;\">\n",
              "      <th></th>\n",
              "      <th>low</th>\n",
              "      <th>close</th>\n",
              "      <th>volume</th>\n",
              "    </tr>\n",
              "    <tr>\n",
              "      <th>Date</th>\n",
              "      <th></th>\n",
              "      <th></th>\n",
              "      <th></th>\n",
              "    </tr>\n",
              "  </thead>\n",
              "  <tbody>\n",
              "    <tr>\n",
              "      <th>2020-08-19</th>\n",
              "      <td>3256.0001</td>\n",
              "      <td>3260.48</td>\n",
              "      <td>4185137</td>\n",
              "    </tr>\n",
              "    <tr>\n",
              "      <th>2020-08-18</th>\n",
              "      <td>3205.8187</td>\n",
              "      <td>3312.49</td>\n",
              "      <td>5345974</td>\n",
              "    </tr>\n",
              "    <tr>\n",
              "      <th>2020-08-17</th>\n",
              "      <td>3154.1775</td>\n",
              "      <td>3182.41</td>\n",
              "      <td>2691237</td>\n",
              "    </tr>\n",
              "    <tr>\n",
              "      <th>2020-08-14</th>\n",
              "      <td>3120.0000</td>\n",
              "      <td>3148.02</td>\n",
              "      <td>2751723</td>\n",
              "    </tr>\n",
              "    <tr>\n",
              "      <th>2020-08-13</th>\n",
              "      <td>3155.0000</td>\n",
              "      <td>3161.02</td>\n",
              "      <td>3149043</td>\n",
              "    </tr>\n",
              "    <tr>\n",
              "      <th>2020-08-12</th>\n",
              "      <td>3101.4200</td>\n",
              "      <td>3162.24</td>\n",
              "      <td>3527229</td>\n",
              "    </tr>\n",
              "    <tr>\n",
              "      <th>2020-08-11</th>\n",
              "      <td>3073.0000</td>\n",
              "      <td>3080.67</td>\n",
              "      <td>3718057</td>\n",
              "    </tr>\n",
              "    <tr>\n",
              "      <th>2020-08-10</th>\n",
              "      <td>3101.5200</td>\n",
              "      <td>3148.16</td>\n",
              "      <td>3167274</td>\n",
              "    </tr>\n",
              "    <tr>\n",
              "      <th>2020-08-07</th>\n",
              "      <td>3140.6726</td>\n",
              "      <td>3167.46</td>\n",
              "      <td>3936127</td>\n",
              "    </tr>\n",
              "    <tr>\n",
              "      <th>2020-08-06</th>\n",
              "      <td>3165.4300</td>\n",
              "      <td>3225.00</td>\n",
              "      <td>3940602</td>\n",
              "    </tr>\n",
              "  </tbody>\n",
              "</table>\n",
              "</div>"
            ],
            "text/plain": [
              "                  low    close   volume\n",
              "Date                                   \n",
              "2020-08-19  3256.0001  3260.48  4185137\n",
              "2020-08-18  3205.8187  3312.49  5345974\n",
              "2020-08-17  3154.1775  3182.41  2691237\n",
              "2020-08-14  3120.0000  3148.02  2751723\n",
              "2020-08-13  3155.0000  3161.02  3149043\n",
              "2020-08-12  3101.4200  3162.24  3527229\n",
              "2020-08-11  3073.0000  3080.67  3718057\n",
              "2020-08-10  3101.5200  3148.16  3167274\n",
              "2020-08-07  3140.6726  3167.46  3936127\n",
              "2020-08-06  3165.4300  3225.00  3940602"
            ]
          },
          "metadata": {
            "tags": []
          },
          "execution_count": 107
        }
      ]
    },
    {
      "cell_type": "code",
      "metadata": {
        "id": "pNj0IfZuPlMa",
        "colab_type": "code",
        "colab": {
          "base_uri": "https://localhost:8080/",
          "height": 121
        },
        "outputId": "d18515ee-3a09-43d2-e652-d10f9b98cfcd"
      },
      "source": [
        "df.iloc[0]"
      ],
      "execution_count": null,
      "outputs": [
        {
          "output_type": "execute_result",
          "data": {
            "text/plain": [
              "open      3.303010e+03\n",
              "high      3.315900e+03\n",
              "low       3.256000e+03\n",
              "close     3.260480e+03\n",
              "volume    4.185137e+06\n",
              "Name: 2020-08-19 00:00:00, dtype: float64"
            ]
          },
          "metadata": {
            "tags": []
          },
          "execution_count": 108
        }
      ]
    },
    {
      "cell_type": "code",
      "metadata": {
        "id": "cpi9mTZpP2ns",
        "colab_type": "code",
        "colab": {
          "base_uri": "https://localhost:8080/",
          "height": 143
        },
        "outputId": "785f9242-ce31-4cfc-d0ec-b779a5267f63"
      },
      "source": [
        "df.iloc[[0,1]]"
      ],
      "execution_count": null,
      "outputs": [
        {
          "output_type": "execute_result",
          "data": {
            "text/html": [
              "<div>\n",
              "<style scoped>\n",
              "    .dataframe tbody tr th:only-of-type {\n",
              "        vertical-align: middle;\n",
              "    }\n",
              "\n",
              "    .dataframe tbody tr th {\n",
              "        vertical-align: top;\n",
              "    }\n",
              "\n",
              "    .dataframe thead th {\n",
              "        text-align: right;\n",
              "    }\n",
              "</style>\n",
              "<table border=\"1\" class=\"dataframe\">\n",
              "  <thead>\n",
              "    <tr style=\"text-align: right;\">\n",
              "      <th></th>\n",
              "      <th>open</th>\n",
              "      <th>high</th>\n",
              "      <th>low</th>\n",
              "      <th>close</th>\n",
              "      <th>volume</th>\n",
              "    </tr>\n",
              "    <tr>\n",
              "      <th>Date</th>\n",
              "      <th></th>\n",
              "      <th></th>\n",
              "      <th></th>\n",
              "      <th></th>\n",
              "      <th></th>\n",
              "    </tr>\n",
              "  </thead>\n",
              "  <tbody>\n",
              "    <tr>\n",
              "      <th>2020-08-19</th>\n",
              "      <td>3303.01</td>\n",
              "      <td>3315.9</td>\n",
              "      <td>3256.0001</td>\n",
              "      <td>3260.48</td>\n",
              "      <td>4185137</td>\n",
              "    </tr>\n",
              "    <tr>\n",
              "      <th>2020-08-18</th>\n",
              "      <td>3212.00</td>\n",
              "      <td>3320.0</td>\n",
              "      <td>3205.8187</td>\n",
              "      <td>3312.49</td>\n",
              "      <td>5345974</td>\n",
              "    </tr>\n",
              "  </tbody>\n",
              "</table>\n",
              "</div>"
            ],
            "text/plain": [
              "               open    high        low    close   volume\n",
              "Date                                                    \n",
              "2020-08-19  3303.01  3315.9  3256.0001  3260.48  4185137\n",
              "2020-08-18  3212.00  3320.0  3205.8187  3312.49  5345974"
            ]
          },
          "metadata": {
            "tags": []
          },
          "execution_count": 109
        }
      ]
    },
    {
      "cell_type": "code",
      "metadata": {
        "id": "O_WzgsyYP7OU",
        "colab_type": "code",
        "colab": {
          "base_uri": "https://localhost:8080/",
          "height": 175
        },
        "outputId": "b3444b1c-b641-4738-addd-7c250d987bb8"
      },
      "source": [
        "df.iloc[:3]"
      ],
      "execution_count": null,
      "outputs": [
        {
          "output_type": "execute_result",
          "data": {
            "text/html": [
              "<div>\n",
              "<style scoped>\n",
              "    .dataframe tbody tr th:only-of-type {\n",
              "        vertical-align: middle;\n",
              "    }\n",
              "\n",
              "    .dataframe tbody tr th {\n",
              "        vertical-align: top;\n",
              "    }\n",
              "\n",
              "    .dataframe thead th {\n",
              "        text-align: right;\n",
              "    }\n",
              "</style>\n",
              "<table border=\"1\" class=\"dataframe\">\n",
              "  <thead>\n",
              "    <tr style=\"text-align: right;\">\n",
              "      <th></th>\n",
              "      <th>open</th>\n",
              "      <th>high</th>\n",
              "      <th>low</th>\n",
              "      <th>close</th>\n",
              "      <th>volume</th>\n",
              "    </tr>\n",
              "    <tr>\n",
              "      <th>Date</th>\n",
              "      <th></th>\n",
              "      <th></th>\n",
              "      <th></th>\n",
              "      <th></th>\n",
              "      <th></th>\n",
              "    </tr>\n",
              "  </thead>\n",
              "  <tbody>\n",
              "    <tr>\n",
              "      <th>2020-08-19</th>\n",
              "      <td>3303.01</td>\n",
              "      <td>3315.90</td>\n",
              "      <td>3256.0001</td>\n",
              "      <td>3260.48</td>\n",
              "      <td>4185137</td>\n",
              "    </tr>\n",
              "    <tr>\n",
              "      <th>2020-08-18</th>\n",
              "      <td>3212.00</td>\n",
              "      <td>3320.00</td>\n",
              "      <td>3205.8187</td>\n",
              "      <td>3312.49</td>\n",
              "      <td>5345974</td>\n",
              "    </tr>\n",
              "    <tr>\n",
              "      <th>2020-08-17</th>\n",
              "      <td>3173.12</td>\n",
              "      <td>3194.97</td>\n",
              "      <td>3154.1775</td>\n",
              "      <td>3182.41</td>\n",
              "      <td>2691237</td>\n",
              "    </tr>\n",
              "  </tbody>\n",
              "</table>\n",
              "</div>"
            ],
            "text/plain": [
              "               open     high        low    close   volume\n",
              "Date                                                     \n",
              "2020-08-19  3303.01  3315.90  3256.0001  3260.48  4185137\n",
              "2020-08-18  3212.00  3320.00  3205.8187  3312.49  5345974\n",
              "2020-08-17  3173.12  3194.97  3154.1775  3182.41  2691237"
            ]
          },
          "metadata": {
            "tags": []
          },
          "execution_count": 110
        }
      ]
    },
    {
      "cell_type": "code",
      "metadata": {
        "id": "R3vDpAHwQExU",
        "colab_type": "code",
        "colab": {
          "base_uri": "https://localhost:8080/",
          "height": 238
        },
        "outputId": "7e2f8ca6-7726-4c66-c633-0565bd56a387"
      },
      "source": [
        "df.loc['2020-07-31':'2020-07-25']"
      ],
      "execution_count": null,
      "outputs": [
        {
          "output_type": "execute_result",
          "data": {
            "text/html": [
              "<div>\n",
              "<style scoped>\n",
              "    .dataframe tbody tr th:only-of-type {\n",
              "        vertical-align: middle;\n",
              "    }\n",
              "\n",
              "    .dataframe tbody tr th {\n",
              "        vertical-align: top;\n",
              "    }\n",
              "\n",
              "    .dataframe thead th {\n",
              "        text-align: right;\n",
              "    }\n",
              "</style>\n",
              "<table border=\"1\" class=\"dataframe\">\n",
              "  <thead>\n",
              "    <tr style=\"text-align: right;\">\n",
              "      <th></th>\n",
              "      <th>Open</th>\n",
              "      <th>High</th>\n",
              "      <th>Low</th>\n",
              "      <th>Close</th>\n",
              "      <th>Volume</th>\n",
              "    </tr>\n",
              "    <tr>\n",
              "      <th>Date</th>\n",
              "      <th></th>\n",
              "      <th></th>\n",
              "      <th></th>\n",
              "      <th></th>\n",
              "      <th></th>\n",
              "    </tr>\n",
              "  </thead>\n",
              "  <tbody>\n",
              "    <tr>\n",
              "      <th>2020-07-31</th>\n",
              "      <td>30.40</td>\n",
              "      <td>30.42</td>\n",
              "      <td>29.785</td>\n",
              "      <td>30.26</td>\n",
              "      <td>16360999</td>\n",
              "    </tr>\n",
              "    <tr>\n",
              "      <th>2020-07-30</th>\n",
              "      <td>30.65</td>\n",
              "      <td>30.68</td>\n",
              "      <td>29.970</td>\n",
              "      <td>30.24</td>\n",
              "      <td>13062912</td>\n",
              "    </tr>\n",
              "    <tr>\n",
              "      <th>2020-07-29</th>\n",
              "      <td>30.92</td>\n",
              "      <td>31.26</td>\n",
              "      <td>30.770</td>\n",
              "      <td>31.02</td>\n",
              "      <td>8215892</td>\n",
              "    </tr>\n",
              "    <tr>\n",
              "      <th>2020-07-28</th>\n",
              "      <td>30.79</td>\n",
              "      <td>31.24</td>\n",
              "      <td>30.350</td>\n",
              "      <td>30.81</td>\n",
              "      <td>12977145</td>\n",
              "    </tr>\n",
              "    <tr>\n",
              "      <th>2020-07-27</th>\n",
              "      <td>31.21</td>\n",
              "      <td>31.60</td>\n",
              "      <td>30.750</td>\n",
              "      <td>30.99</td>\n",
              "      <td>10182302</td>\n",
              "    </tr>\n",
              "  </tbody>\n",
              "</table>\n",
              "</div>"
            ],
            "text/plain": [
              "             Open   High     Low  Close    Volume\n",
              "Date                                             \n",
              "2020-07-31  30.40  30.42  29.785  30.26  16360999\n",
              "2020-07-30  30.65  30.68  29.970  30.24  13062912\n",
              "2020-07-29  30.92  31.26  30.770  31.02   8215892\n",
              "2020-07-28  30.79  31.24  30.350  30.81  12977145\n",
              "2020-07-27  31.21  31.60  30.750  30.99  10182302"
            ]
          },
          "metadata": {
            "tags": []
          },
          "execution_count": 114
        }
      ]
    },
    {
      "cell_type": "code",
      "metadata": {
        "id": "eKwnftflQjIe",
        "colab_type": "code",
        "colab": {
          "base_uri": "https://localhost:8080/",
          "height": 225
        },
        "outputId": "1e51f98f-a671-46b8-e994-90c8b5cefff2"
      },
      "source": [
        "df = fetch_stock_data('UBER')\n",
        "df.info()"
      ],
      "execution_count": null,
      "outputs": [
        {
          "output_type": "stream",
          "text": [
            "<class 'pandas.core.frame.DataFrame'>\n",
            "DatetimeIndex: 323 entries, 2020-08-19 to 2019-05-10\n",
            "Data columns (total 5 columns):\n",
            " #   Column  Non-Null Count  Dtype  \n",
            "---  ------  --------------  -----  \n",
            " 0   Open    323 non-null    float64\n",
            " 1   High    323 non-null    float64\n",
            " 2   Low     323 non-null    float64\n",
            " 3   Close   323 non-null    float64\n",
            " 4   Volume  323 non-null    int64  \n",
            "dtypes: float64(4), int64(1)\n",
            "memory usage: 15.1 KB\n"
          ],
          "name": "stdout"
        }
      ]
    },
    {
      "cell_type": "code",
      "metadata": {
        "id": "6zNFeAaybsk2",
        "colab_type": "code",
        "colab": {
          "base_uri": "https://localhost:8080/",
          "height": 238
        },
        "outputId": "410ea81b-d120-4a6f-caaf-147ba6c5c613"
      },
      "source": [
        "df.head()"
      ],
      "execution_count": null,
      "outputs": [
        {
          "output_type": "execute_result",
          "data": {
            "text/html": [
              "<div>\n",
              "<style scoped>\n",
              "    .dataframe tbody tr th:only-of-type {\n",
              "        vertical-align: middle;\n",
              "    }\n",
              "\n",
              "    .dataframe tbody tr th {\n",
              "        vertical-align: top;\n",
              "    }\n",
              "\n",
              "    .dataframe thead th {\n",
              "        text-align: right;\n",
              "    }\n",
              "</style>\n",
              "<table border=\"1\" class=\"dataframe\">\n",
              "  <thead>\n",
              "    <tr style=\"text-align: right;\">\n",
              "      <th></th>\n",
              "      <th>Open</th>\n",
              "      <th>High</th>\n",
              "      <th>Low</th>\n",
              "      <th>Close</th>\n",
              "      <th>Volume</th>\n",
              "    </tr>\n",
              "    <tr>\n",
              "      <th>Date</th>\n",
              "      <th></th>\n",
              "      <th></th>\n",
              "      <th></th>\n",
              "      <th></th>\n",
              "      <th></th>\n",
              "    </tr>\n",
              "  </thead>\n",
              "  <tbody>\n",
              "    <tr>\n",
              "      <th>2020-08-19</th>\n",
              "      <td>30.15</td>\n",
              "      <td>30.349</td>\n",
              "      <td>29.390</td>\n",
              "      <td>29.42</td>\n",
              "      <td>14050333</td>\n",
              "    </tr>\n",
              "    <tr>\n",
              "      <th>2020-08-18</th>\n",
              "      <td>29.50</td>\n",
              "      <td>30.460</td>\n",
              "      <td>29.410</td>\n",
              "      <td>30.08</td>\n",
              "      <td>29398212</td>\n",
              "    </tr>\n",
              "    <tr>\n",
              "      <th>2020-08-17</th>\n",
              "      <td>30.05</td>\n",
              "      <td>30.120</td>\n",
              "      <td>29.140</td>\n",
              "      <td>29.48</td>\n",
              "      <td>18544676</td>\n",
              "    </tr>\n",
              "    <tr>\n",
              "      <th>2020-08-14</th>\n",
              "      <td>30.40</td>\n",
              "      <td>30.490</td>\n",
              "      <td>29.815</td>\n",
              "      <td>29.99</td>\n",
              "      <td>17631632</td>\n",
              "    </tr>\n",
              "    <tr>\n",
              "      <th>2020-08-13</th>\n",
              "      <td>30.52</td>\n",
              "      <td>31.330</td>\n",
              "      <td>30.320</td>\n",
              "      <td>30.46</td>\n",
              "      <td>21976775</td>\n",
              "    </tr>\n",
              "  </tbody>\n",
              "</table>\n",
              "</div>"
            ],
            "text/plain": [
              "             Open    High     Low  Close    Volume\n",
              "Date                                              \n",
              "2020-08-19  30.15  30.349  29.390  29.42  14050333\n",
              "2020-08-18  29.50  30.460  29.410  30.08  29398212\n",
              "2020-08-17  30.05  30.120  29.140  29.48  18544676\n",
              "2020-08-14  30.40  30.490  29.815  29.99  17631632\n",
              "2020-08-13  30.52  31.330  30.320  30.46  21976775"
            ]
          },
          "metadata": {
            "tags": []
          },
          "execution_count": 116
        }
      ]
    },
    {
      "cell_type": "code",
      "metadata": {
        "id": "p0XvJty7cDu6",
        "colab_type": "code",
        "colab": {
          "base_uri": "https://localhost:8080/",
          "height": 300
        },
        "outputId": "cf7d0994-22ab-44e4-a4b8-1fe64019eb27"
      },
      "source": [
        "df.describe()"
      ],
      "execution_count": null,
      "outputs": [
        {
          "output_type": "execute_result",
          "data": {
            "text/html": [
              "<div>\n",
              "<style scoped>\n",
              "    .dataframe tbody tr th:only-of-type {\n",
              "        vertical-align: middle;\n",
              "    }\n",
              "\n",
              "    .dataframe tbody tr th {\n",
              "        vertical-align: top;\n",
              "    }\n",
              "\n",
              "    .dataframe thead th {\n",
              "        text-align: right;\n",
              "    }\n",
              "</style>\n",
              "<table border=\"1\" class=\"dataframe\">\n",
              "  <thead>\n",
              "    <tr style=\"text-align: right;\">\n",
              "      <th></th>\n",
              "      <th>Open</th>\n",
              "      <th>High</th>\n",
              "      <th>Low</th>\n",
              "      <th>Close</th>\n",
              "      <th>Volume</th>\n",
              "    </tr>\n",
              "  </thead>\n",
              "  <tbody>\n",
              "    <tr>\n",
              "      <th>count</th>\n",
              "      <td>323.000000</td>\n",
              "      <td>323.000000</td>\n",
              "      <td>323.000000</td>\n",
              "      <td>323.000000</td>\n",
              "      <td>3.230000e+02</td>\n",
              "    </tr>\n",
              "    <tr>\n",
              "      <th>mean</th>\n",
              "      <td>33.824639</td>\n",
              "      <td>34.497911</td>\n",
              "      <td>33.005813</td>\n",
              "      <td>33.768885</td>\n",
              "      <td>2.507292e+07</td>\n",
              "    </tr>\n",
              "    <tr>\n",
              "      <th>std</th>\n",
              "      <td>5.782060</td>\n",
              "      <td>5.718886</td>\n",
              "      <td>5.800435</td>\n",
              "      <td>5.726205</td>\n",
              "      <td>2.046641e+07</td>\n",
              "    </tr>\n",
              "    <tr>\n",
              "      <th>min</th>\n",
              "      <td>15.960000</td>\n",
              "      <td>17.800000</td>\n",
              "      <td>13.710000</td>\n",
              "      <td>14.820000</td>\n",
              "      <td>3.380003e+06</td>\n",
              "    </tr>\n",
              "    <tr>\n",
              "      <th>25%</th>\n",
              "      <td>29.970000</td>\n",
              "      <td>30.410000</td>\n",
              "      <td>29.360000</td>\n",
              "      <td>29.990000</td>\n",
              "      <td>1.031507e+07</td>\n",
              "    </tr>\n",
              "    <tr>\n",
              "      <th>50%</th>\n",
              "      <td>32.750000</td>\n",
              "      <td>33.355000</td>\n",
              "      <td>31.983000</td>\n",
              "      <td>32.760000</td>\n",
              "      <td>2.109839e+07</td>\n",
              "    </tr>\n",
              "    <tr>\n",
              "      <th>75%</th>\n",
              "      <td>37.700000</td>\n",
              "      <td>37.945000</td>\n",
              "      <td>36.727500</td>\n",
              "      <td>37.085000</td>\n",
              "      <td>3.302848e+07</td>\n",
              "    </tr>\n",
              "    <tr>\n",
              "      <th>max</th>\n",
              "      <td>46.980000</td>\n",
              "      <td>47.080000</td>\n",
              "      <td>45.080000</td>\n",
              "      <td>46.380000</td>\n",
              "      <td>1.863225e+08</td>\n",
              "    </tr>\n",
              "  </tbody>\n",
              "</table>\n",
              "</div>"
            ],
            "text/plain": [
              "             Open        High         Low       Close        Volume\n",
              "count  323.000000  323.000000  323.000000  323.000000  3.230000e+02\n",
              "mean    33.824639   34.497911   33.005813   33.768885  2.507292e+07\n",
              "std      5.782060    5.718886    5.800435    5.726205  2.046641e+07\n",
              "min     15.960000   17.800000   13.710000   14.820000  3.380003e+06\n",
              "25%     29.970000   30.410000   29.360000   29.990000  1.031507e+07\n",
              "50%     32.750000   33.355000   31.983000   32.760000  2.109839e+07\n",
              "75%     37.700000   37.945000   36.727500   37.085000  3.302848e+07\n",
              "max     46.980000   47.080000   45.080000   46.380000  1.863225e+08"
            ]
          },
          "metadata": {
            "tags": []
          },
          "execution_count": 117
        }
      ]
    },
    {
      "cell_type": "code",
      "metadata": {
        "id": "Im2hcSricM7T",
        "colab_type": "code",
        "colab": {
          "base_uri": "https://localhost:8080/",
          "height": 175
        },
        "outputId": "1f302927-35e5-49a0-d715-f125383924c5"
      },
      "source": [
        "df.head(3)"
      ],
      "execution_count": null,
      "outputs": [
        {
          "output_type": "execute_result",
          "data": {
            "text/html": [
              "<div>\n",
              "<style scoped>\n",
              "    .dataframe tbody tr th:only-of-type {\n",
              "        vertical-align: middle;\n",
              "    }\n",
              "\n",
              "    .dataframe tbody tr th {\n",
              "        vertical-align: top;\n",
              "    }\n",
              "\n",
              "    .dataframe thead th {\n",
              "        text-align: right;\n",
              "    }\n",
              "</style>\n",
              "<table border=\"1\" class=\"dataframe\">\n",
              "  <thead>\n",
              "    <tr style=\"text-align: right;\">\n",
              "      <th></th>\n",
              "      <th>Open</th>\n",
              "      <th>High</th>\n",
              "      <th>Low</th>\n",
              "      <th>Close</th>\n",
              "      <th>Volume</th>\n",
              "    </tr>\n",
              "    <tr>\n",
              "      <th>Date</th>\n",
              "      <th></th>\n",
              "      <th></th>\n",
              "      <th></th>\n",
              "      <th></th>\n",
              "      <th></th>\n",
              "    </tr>\n",
              "  </thead>\n",
              "  <tbody>\n",
              "    <tr>\n",
              "      <th>2020-08-19</th>\n",
              "      <td>30.15</td>\n",
              "      <td>30.349</td>\n",
              "      <td>29.39</td>\n",
              "      <td>29.42</td>\n",
              "      <td>14050333</td>\n",
              "    </tr>\n",
              "    <tr>\n",
              "      <th>2020-08-18</th>\n",
              "      <td>29.50</td>\n",
              "      <td>30.460</td>\n",
              "      <td>29.41</td>\n",
              "      <td>30.08</td>\n",
              "      <td>29398212</td>\n",
              "    </tr>\n",
              "    <tr>\n",
              "      <th>2020-08-17</th>\n",
              "      <td>30.05</td>\n",
              "      <td>30.120</td>\n",
              "      <td>29.14</td>\n",
              "      <td>29.48</td>\n",
              "      <td>18544676</td>\n",
              "    </tr>\n",
              "  </tbody>\n",
              "</table>\n",
              "</div>"
            ],
            "text/plain": [
              "             Open    High    Low  Close    Volume\n",
              "Date                                             \n",
              "2020-08-19  30.15  30.349  29.39  29.42  14050333\n",
              "2020-08-18  29.50  30.460  29.41  30.08  29398212\n",
              "2020-08-17  30.05  30.120  29.14  29.48  18544676"
            ]
          },
          "metadata": {
            "tags": []
          },
          "execution_count": 118
        }
      ]
    },
    {
      "cell_type": "code",
      "metadata": {
        "id": "j08gLHrjcgrl",
        "colab_type": "code",
        "colab": {
          "base_uri": "https://localhost:8080/",
          "height": 238
        },
        "outputId": "c398f37a-9510-4e9a-b217-e6f7a24fc231"
      },
      "source": [
        "df['Average'] = (df.Open + df.Close) / 2\n",
        "df.head()"
      ],
      "execution_count": null,
      "outputs": [
        {
          "output_type": "execute_result",
          "data": {
            "text/html": [
              "<div>\n",
              "<style scoped>\n",
              "    .dataframe tbody tr th:only-of-type {\n",
              "        vertical-align: middle;\n",
              "    }\n",
              "\n",
              "    .dataframe tbody tr th {\n",
              "        vertical-align: top;\n",
              "    }\n",
              "\n",
              "    .dataframe thead th {\n",
              "        text-align: right;\n",
              "    }\n",
              "</style>\n",
              "<table border=\"1\" class=\"dataframe\">\n",
              "  <thead>\n",
              "    <tr style=\"text-align: right;\">\n",
              "      <th></th>\n",
              "      <th>Open</th>\n",
              "      <th>High</th>\n",
              "      <th>Low</th>\n",
              "      <th>Close</th>\n",
              "      <th>Volume</th>\n",
              "      <th>Average</th>\n",
              "    </tr>\n",
              "    <tr>\n",
              "      <th>Date</th>\n",
              "      <th></th>\n",
              "      <th></th>\n",
              "      <th></th>\n",
              "      <th></th>\n",
              "      <th></th>\n",
              "      <th></th>\n",
              "    </tr>\n",
              "  </thead>\n",
              "  <tbody>\n",
              "    <tr>\n",
              "      <th>2020-08-19</th>\n",
              "      <td>30.15</td>\n",
              "      <td>30.349</td>\n",
              "      <td>29.390</td>\n",
              "      <td>29.42</td>\n",
              "      <td>14050333</td>\n",
              "      <td>29.785</td>\n",
              "    </tr>\n",
              "    <tr>\n",
              "      <th>2020-08-18</th>\n",
              "      <td>29.50</td>\n",
              "      <td>30.460</td>\n",
              "      <td>29.410</td>\n",
              "      <td>30.08</td>\n",
              "      <td>29398212</td>\n",
              "      <td>29.790</td>\n",
              "    </tr>\n",
              "    <tr>\n",
              "      <th>2020-08-17</th>\n",
              "      <td>30.05</td>\n",
              "      <td>30.120</td>\n",
              "      <td>29.140</td>\n",
              "      <td>29.48</td>\n",
              "      <td>18544676</td>\n",
              "      <td>29.765</td>\n",
              "    </tr>\n",
              "    <tr>\n",
              "      <th>2020-08-14</th>\n",
              "      <td>30.40</td>\n",
              "      <td>30.490</td>\n",
              "      <td>29.815</td>\n",
              "      <td>29.99</td>\n",
              "      <td>17631632</td>\n",
              "      <td>30.195</td>\n",
              "    </tr>\n",
              "    <tr>\n",
              "      <th>2020-08-13</th>\n",
              "      <td>30.52</td>\n",
              "      <td>31.330</td>\n",
              "      <td>30.320</td>\n",
              "      <td>30.46</td>\n",
              "      <td>21976775</td>\n",
              "      <td>30.490</td>\n",
              "    </tr>\n",
              "  </tbody>\n",
              "</table>\n",
              "</div>"
            ],
            "text/plain": [
              "             Open    High     Low  Close    Volume  Average\n",
              "Date                                                       \n",
              "2020-08-19  30.15  30.349  29.390  29.42  14050333   29.785\n",
              "2020-08-18  29.50  30.460  29.410  30.08  29398212   29.790\n",
              "2020-08-17  30.05  30.120  29.140  29.48  18544676   29.765\n",
              "2020-08-14  30.40  30.490  29.815  29.99  17631632   30.195\n",
              "2020-08-13  30.52  31.330  30.320  30.46  21976775   30.490"
            ]
          },
          "metadata": {
            "tags": []
          },
          "execution_count": 119
        }
      ]
    },
    {
      "cell_type": "code",
      "metadata": {
        "id": "IknW4M0Jc2IW",
        "colab_type": "code",
        "colab": {
          "base_uri": "https://localhost:8080/",
          "height": 238
        },
        "outputId": "06914865-a443-4412-82ea-ff38f9ac8264"
      },
      "source": [
        "df = df.sort_index()\n",
        "df.head()"
      ],
      "execution_count": null,
      "outputs": [
        {
          "output_type": "execute_result",
          "data": {
            "text/html": [
              "<div>\n",
              "<style scoped>\n",
              "    .dataframe tbody tr th:only-of-type {\n",
              "        vertical-align: middle;\n",
              "    }\n",
              "\n",
              "    .dataframe tbody tr th {\n",
              "        vertical-align: top;\n",
              "    }\n",
              "\n",
              "    .dataframe thead th {\n",
              "        text-align: right;\n",
              "    }\n",
              "</style>\n",
              "<table border=\"1\" class=\"dataframe\">\n",
              "  <thead>\n",
              "    <tr style=\"text-align: right;\">\n",
              "      <th></th>\n",
              "      <th>Open</th>\n",
              "      <th>High</th>\n",
              "      <th>Low</th>\n",
              "      <th>Close</th>\n",
              "      <th>Volume</th>\n",
              "      <th>Average</th>\n",
              "    </tr>\n",
              "    <tr>\n",
              "      <th>Date</th>\n",
              "      <th></th>\n",
              "      <th></th>\n",
              "      <th></th>\n",
              "      <th></th>\n",
              "      <th></th>\n",
              "      <th></th>\n",
              "    </tr>\n",
              "  </thead>\n",
              "  <tbody>\n",
              "    <tr>\n",
              "      <th>2019-05-10</th>\n",
              "      <td>42.00</td>\n",
              "      <td>45.00</td>\n",
              "      <td>41.06</td>\n",
              "      <td>41.57</td>\n",
              "      <td>186322536</td>\n",
              "      <td>41.785</td>\n",
              "    </tr>\n",
              "    <tr>\n",
              "      <th>2019-05-13</th>\n",
              "      <td>38.79</td>\n",
              "      <td>39.24</td>\n",
              "      <td>36.08</td>\n",
              "      <td>37.10</td>\n",
              "      <td>79442420</td>\n",
              "      <td>37.945</td>\n",
              "    </tr>\n",
              "    <tr>\n",
              "      <th>2019-05-14</th>\n",
              "      <td>38.31</td>\n",
              "      <td>39.96</td>\n",
              "      <td>36.85</td>\n",
              "      <td>39.96</td>\n",
              "      <td>46661147</td>\n",
              "      <td>39.135</td>\n",
              "    </tr>\n",
              "    <tr>\n",
              "      <th>2019-05-15</th>\n",
              "      <td>39.37</td>\n",
              "      <td>41.88</td>\n",
              "      <td>38.95</td>\n",
              "      <td>41.29</td>\n",
              "      <td>36086065</td>\n",
              "      <td>40.330</td>\n",
              "    </tr>\n",
              "    <tr>\n",
              "      <th>2019-05-16</th>\n",
              "      <td>41.48</td>\n",
              "      <td>44.06</td>\n",
              "      <td>41.25</td>\n",
              "      <td>43.00</td>\n",
              "      <td>38115524</td>\n",
              "      <td>42.240</td>\n",
              "    </tr>\n",
              "  </tbody>\n",
              "</table>\n",
              "</div>"
            ],
            "text/plain": [
              "             Open   High    Low  Close     Volume  Average\n",
              "Date                                                      \n",
              "2019-05-10  42.00  45.00  41.06  41.57  186322536   41.785\n",
              "2019-05-13  38.79  39.24  36.08  37.10   79442420   37.945\n",
              "2019-05-14  38.31  39.96  36.85  39.96   46661147   39.135\n",
              "2019-05-15  39.37  41.88  38.95  41.29   36086065   40.330\n",
              "2019-05-16  41.48  44.06  41.25  43.00   38115524   42.240"
            ]
          },
          "metadata": {
            "tags": []
          },
          "execution_count": 120
        }
      ]
    },
    {
      "cell_type": "code",
      "metadata": {
        "id": "a4_tsBOUdIhB",
        "colab_type": "code",
        "colab": {
          "base_uri": "https://localhost:8080/",
          "height": 455
        },
        "outputId": "4712035d-b82c-4424-d330-c9e02bc2c702"
      },
      "source": [
        "df[['Close']].shift(1)"
      ],
      "execution_count": null,
      "outputs": [
        {
          "output_type": "execute_result",
          "data": {
            "text/html": [
              "<div>\n",
              "<style scoped>\n",
              "    .dataframe tbody tr th:only-of-type {\n",
              "        vertical-align: middle;\n",
              "    }\n",
              "\n",
              "    .dataframe tbody tr th {\n",
              "        vertical-align: top;\n",
              "    }\n",
              "\n",
              "    .dataframe thead th {\n",
              "        text-align: right;\n",
              "    }\n",
              "</style>\n",
              "<table border=\"1\" class=\"dataframe\">\n",
              "  <thead>\n",
              "    <tr style=\"text-align: right;\">\n",
              "      <th></th>\n",
              "      <th>Close</th>\n",
              "    </tr>\n",
              "    <tr>\n",
              "      <th>Date</th>\n",
              "      <th></th>\n",
              "    </tr>\n",
              "  </thead>\n",
              "  <tbody>\n",
              "    <tr>\n",
              "      <th>2019-05-10</th>\n",
              "      <td>NaN</td>\n",
              "    </tr>\n",
              "    <tr>\n",
              "      <th>2019-05-13</th>\n",
              "      <td>41.57</td>\n",
              "    </tr>\n",
              "    <tr>\n",
              "      <th>2019-05-14</th>\n",
              "      <td>37.10</td>\n",
              "    </tr>\n",
              "    <tr>\n",
              "      <th>2019-05-15</th>\n",
              "      <td>39.96</td>\n",
              "    </tr>\n",
              "    <tr>\n",
              "      <th>2019-05-16</th>\n",
              "      <td>41.29</td>\n",
              "    </tr>\n",
              "    <tr>\n",
              "      <th>...</th>\n",
              "      <td>...</td>\n",
              "    </tr>\n",
              "    <tr>\n",
              "      <th>2020-08-13</th>\n",
              "      <td>30.84</td>\n",
              "    </tr>\n",
              "    <tr>\n",
              "      <th>2020-08-14</th>\n",
              "      <td>30.46</td>\n",
              "    </tr>\n",
              "    <tr>\n",
              "      <th>2020-08-17</th>\n",
              "      <td>29.99</td>\n",
              "    </tr>\n",
              "    <tr>\n",
              "      <th>2020-08-18</th>\n",
              "      <td>29.48</td>\n",
              "    </tr>\n",
              "    <tr>\n",
              "      <th>2020-08-19</th>\n",
              "      <td>30.08</td>\n",
              "    </tr>\n",
              "  </tbody>\n",
              "</table>\n",
              "<p>323 rows × 1 columns</p>\n",
              "</div>"
            ],
            "text/plain": [
              "            Close\n",
              "Date             \n",
              "2019-05-10    NaN\n",
              "2019-05-13  41.57\n",
              "2019-05-14  37.10\n",
              "2019-05-15  39.96\n",
              "2019-05-16  41.29\n",
              "...           ...\n",
              "2020-08-13  30.84\n",
              "2020-08-14  30.46\n",
              "2020-08-17  29.99\n",
              "2020-08-18  29.48\n",
              "2020-08-19  30.08\n",
              "\n",
              "[323 rows x 1 columns]"
            ]
          },
          "metadata": {
            "tags": []
          },
          "execution_count": 121
        }
      ]
    },
    {
      "cell_type": "code",
      "metadata": {
        "id": "PwdLBYDbeYDl",
        "colab_type": "code",
        "colab": {
          "base_uri": "https://localhost:8080/",
          "height": 238
        },
        "outputId": "eae2e3db-35f3-4ac9-d3be-031e70096b9f"
      },
      "source": [
        "df['Close_shift'] = df.Close.shift(1)\n",
        "df.head()"
      ],
      "execution_count": null,
      "outputs": [
        {
          "output_type": "execute_result",
          "data": {
            "text/html": [
              "<div>\n",
              "<style scoped>\n",
              "    .dataframe tbody tr th:only-of-type {\n",
              "        vertical-align: middle;\n",
              "    }\n",
              "\n",
              "    .dataframe tbody tr th {\n",
              "        vertical-align: top;\n",
              "    }\n",
              "\n",
              "    .dataframe thead th {\n",
              "        text-align: right;\n",
              "    }\n",
              "</style>\n",
              "<table border=\"1\" class=\"dataframe\">\n",
              "  <thead>\n",
              "    <tr style=\"text-align: right;\">\n",
              "      <th></th>\n",
              "      <th>Open</th>\n",
              "      <th>High</th>\n",
              "      <th>Low</th>\n",
              "      <th>Close</th>\n",
              "      <th>Volume</th>\n",
              "      <th>Average</th>\n",
              "      <th>Close_shift</th>\n",
              "    </tr>\n",
              "    <tr>\n",
              "      <th>Date</th>\n",
              "      <th></th>\n",
              "      <th></th>\n",
              "      <th></th>\n",
              "      <th></th>\n",
              "      <th></th>\n",
              "      <th></th>\n",
              "      <th></th>\n",
              "    </tr>\n",
              "  </thead>\n",
              "  <tbody>\n",
              "    <tr>\n",
              "      <th>2019-05-10</th>\n",
              "      <td>42.00</td>\n",
              "      <td>45.00</td>\n",
              "      <td>41.06</td>\n",
              "      <td>41.57</td>\n",
              "      <td>186322536</td>\n",
              "      <td>41.785</td>\n",
              "      <td>NaN</td>\n",
              "    </tr>\n",
              "    <tr>\n",
              "      <th>2019-05-13</th>\n",
              "      <td>38.79</td>\n",
              "      <td>39.24</td>\n",
              "      <td>36.08</td>\n",
              "      <td>37.10</td>\n",
              "      <td>79442420</td>\n",
              "      <td>37.945</td>\n",
              "      <td>41.57</td>\n",
              "    </tr>\n",
              "    <tr>\n",
              "      <th>2019-05-14</th>\n",
              "      <td>38.31</td>\n",
              "      <td>39.96</td>\n",
              "      <td>36.85</td>\n",
              "      <td>39.96</td>\n",
              "      <td>46661147</td>\n",
              "      <td>39.135</td>\n",
              "      <td>37.10</td>\n",
              "    </tr>\n",
              "    <tr>\n",
              "      <th>2019-05-15</th>\n",
              "      <td>39.37</td>\n",
              "      <td>41.88</td>\n",
              "      <td>38.95</td>\n",
              "      <td>41.29</td>\n",
              "      <td>36086065</td>\n",
              "      <td>40.330</td>\n",
              "      <td>39.96</td>\n",
              "    </tr>\n",
              "    <tr>\n",
              "      <th>2019-05-16</th>\n",
              "      <td>41.48</td>\n",
              "      <td>44.06</td>\n",
              "      <td>41.25</td>\n",
              "      <td>43.00</td>\n",
              "      <td>38115524</td>\n",
              "      <td>42.240</td>\n",
              "      <td>41.29</td>\n",
              "    </tr>\n",
              "  </tbody>\n",
              "</table>\n",
              "</div>"
            ],
            "text/plain": [
              "             Open   High    Low  Close     Volume  Average  Close_shift\n",
              "Date                                                                   \n",
              "2019-05-10  42.00  45.00  41.06  41.57  186322536   41.785          NaN\n",
              "2019-05-13  38.79  39.24  36.08  37.10   79442420   37.945        41.57\n",
              "2019-05-14  38.31  39.96  36.85  39.96   46661147   39.135        37.10\n",
              "2019-05-15  39.37  41.88  38.95  41.29   36086065   40.330        39.96\n",
              "2019-05-16  41.48  44.06  41.25  43.00   38115524   42.240        41.29"
            ]
          },
          "metadata": {
            "tags": []
          },
          "execution_count": 122
        }
      ]
    },
    {
      "cell_type": "code",
      "metadata": {
        "id": "7P2hBw0nfJ-h",
        "colab_type": "code",
        "colab": {
          "base_uri": "https://localhost:8080/",
          "height": 455
        },
        "outputId": "2896e758-6fd5-468d-864a-c331574daa01"
      },
      "source": [
        "df['Daily_Change'] = df.Close / df.Close_shift - 1\n",
        "df"
      ],
      "execution_count": null,
      "outputs": [
        {
          "output_type": "execute_result",
          "data": {
            "text/html": [
              "<div>\n",
              "<style scoped>\n",
              "    .dataframe tbody tr th:only-of-type {\n",
              "        vertical-align: middle;\n",
              "    }\n",
              "\n",
              "    .dataframe tbody tr th {\n",
              "        vertical-align: top;\n",
              "    }\n",
              "\n",
              "    .dataframe thead th {\n",
              "        text-align: right;\n",
              "    }\n",
              "</style>\n",
              "<table border=\"1\" class=\"dataframe\">\n",
              "  <thead>\n",
              "    <tr style=\"text-align: right;\">\n",
              "      <th></th>\n",
              "      <th>Open</th>\n",
              "      <th>High</th>\n",
              "      <th>Low</th>\n",
              "      <th>Close</th>\n",
              "      <th>Volume</th>\n",
              "      <th>Average</th>\n",
              "      <th>Close_shift</th>\n",
              "      <th>Daily_Change</th>\n",
              "    </tr>\n",
              "    <tr>\n",
              "      <th>Date</th>\n",
              "      <th></th>\n",
              "      <th></th>\n",
              "      <th></th>\n",
              "      <th></th>\n",
              "      <th></th>\n",
              "      <th></th>\n",
              "      <th></th>\n",
              "      <th></th>\n",
              "    </tr>\n",
              "  </thead>\n",
              "  <tbody>\n",
              "    <tr>\n",
              "      <th>2019-05-10</th>\n",
              "      <td>42.00</td>\n",
              "      <td>45.000</td>\n",
              "      <td>41.060</td>\n",
              "      <td>41.57</td>\n",
              "      <td>186322536</td>\n",
              "      <td>41.785</td>\n",
              "      <td>NaN</td>\n",
              "      <td>NaN</td>\n",
              "    </tr>\n",
              "    <tr>\n",
              "      <th>2019-05-13</th>\n",
              "      <td>38.79</td>\n",
              "      <td>39.240</td>\n",
              "      <td>36.080</td>\n",
              "      <td>37.10</td>\n",
              "      <td>79442420</td>\n",
              "      <td>37.945</td>\n",
              "      <td>41.57</td>\n",
              "      <td>-0.107529</td>\n",
              "    </tr>\n",
              "    <tr>\n",
              "      <th>2019-05-14</th>\n",
              "      <td>38.31</td>\n",
              "      <td>39.960</td>\n",
              "      <td>36.850</td>\n",
              "      <td>39.96</td>\n",
              "      <td>46661147</td>\n",
              "      <td>39.135</td>\n",
              "      <td>37.10</td>\n",
              "      <td>0.077089</td>\n",
              "    </tr>\n",
              "    <tr>\n",
              "      <th>2019-05-15</th>\n",
              "      <td>39.37</td>\n",
              "      <td>41.880</td>\n",
              "      <td>38.950</td>\n",
              "      <td>41.29</td>\n",
              "      <td>36086065</td>\n",
              "      <td>40.330</td>\n",
              "      <td>39.96</td>\n",
              "      <td>0.033283</td>\n",
              "    </tr>\n",
              "    <tr>\n",
              "      <th>2019-05-16</th>\n",
              "      <td>41.48</td>\n",
              "      <td>44.060</td>\n",
              "      <td>41.250</td>\n",
              "      <td>43.00</td>\n",
              "      <td>38115524</td>\n",
              "      <td>42.240</td>\n",
              "      <td>41.29</td>\n",
              "      <td>0.041414</td>\n",
              "    </tr>\n",
              "    <tr>\n",
              "      <th>...</th>\n",
              "      <td>...</td>\n",
              "      <td>...</td>\n",
              "      <td>...</td>\n",
              "      <td>...</td>\n",
              "      <td>...</td>\n",
              "      <td>...</td>\n",
              "      <td>...</td>\n",
              "      <td>...</td>\n",
              "    </tr>\n",
              "    <tr>\n",
              "      <th>2020-08-13</th>\n",
              "      <td>30.52</td>\n",
              "      <td>31.330</td>\n",
              "      <td>30.320</td>\n",
              "      <td>30.46</td>\n",
              "      <td>21976775</td>\n",
              "      <td>30.490</td>\n",
              "      <td>30.84</td>\n",
              "      <td>-0.012322</td>\n",
              "    </tr>\n",
              "    <tr>\n",
              "      <th>2020-08-14</th>\n",
              "      <td>30.40</td>\n",
              "      <td>30.490</td>\n",
              "      <td>29.815</td>\n",
              "      <td>29.99</td>\n",
              "      <td>17631632</td>\n",
              "      <td>30.195</td>\n",
              "      <td>30.46</td>\n",
              "      <td>-0.015430</td>\n",
              "    </tr>\n",
              "    <tr>\n",
              "      <th>2020-08-17</th>\n",
              "      <td>30.05</td>\n",
              "      <td>30.120</td>\n",
              "      <td>29.140</td>\n",
              "      <td>29.48</td>\n",
              "      <td>18544676</td>\n",
              "      <td>29.765</td>\n",
              "      <td>29.99</td>\n",
              "      <td>-0.017006</td>\n",
              "    </tr>\n",
              "    <tr>\n",
              "      <th>2020-08-18</th>\n",
              "      <td>29.50</td>\n",
              "      <td>30.460</td>\n",
              "      <td>29.410</td>\n",
              "      <td>30.08</td>\n",
              "      <td>29398212</td>\n",
              "      <td>29.790</td>\n",
              "      <td>29.48</td>\n",
              "      <td>0.020353</td>\n",
              "    </tr>\n",
              "    <tr>\n",
              "      <th>2020-08-19</th>\n",
              "      <td>30.15</td>\n",
              "      <td>30.349</td>\n",
              "      <td>29.390</td>\n",
              "      <td>29.42</td>\n",
              "      <td>14050333</td>\n",
              "      <td>29.785</td>\n",
              "      <td>30.08</td>\n",
              "      <td>-0.021941</td>\n",
              "    </tr>\n",
              "  </tbody>\n",
              "</table>\n",
              "<p>323 rows × 8 columns</p>\n",
              "</div>"
            ],
            "text/plain": [
              "             Open    High     Low  ...  Average  Close_shift  Daily_Change\n",
              "Date                               ...                                    \n",
              "2019-05-10  42.00  45.000  41.060  ...   41.785          NaN           NaN\n",
              "2019-05-13  38.79  39.240  36.080  ...   37.945        41.57     -0.107529\n",
              "2019-05-14  38.31  39.960  36.850  ...   39.135        37.10      0.077089\n",
              "2019-05-15  39.37  41.880  38.950  ...   40.330        39.96      0.033283\n",
              "2019-05-16  41.48  44.060  41.250  ...   42.240        41.29      0.041414\n",
              "...           ...     ...     ...  ...      ...          ...           ...\n",
              "2020-08-13  30.52  31.330  30.320  ...   30.490        30.84     -0.012322\n",
              "2020-08-14  30.40  30.490  29.815  ...   30.195        30.46     -0.015430\n",
              "2020-08-17  30.05  30.120  29.140  ...   29.765        29.99     -0.017006\n",
              "2020-08-18  29.50  30.460  29.410  ...   29.790        29.48      0.020353\n",
              "2020-08-19  30.15  30.349  29.390  ...   29.785        30.08     -0.021941\n",
              "\n",
              "[323 rows x 8 columns]"
            ]
          },
          "metadata": {
            "tags": []
          },
          "execution_count": 124
        }
      ]
    },
    {
      "cell_type": "code",
      "metadata": {
        "id": "vx31Hx2IgVJF",
        "colab_type": "code",
        "colab": {
          "base_uri": "https://localhost:8080/",
          "height": 34
        },
        "outputId": "85abed32-39b7-4e06-89d6-4ce1ecd053c7"
      },
      "source": [
        "df.Daily_Change.min()"
      ],
      "execution_count": null,
      "outputs": [
        {
          "output_type": "execute_result",
          "data": {
            "text/plain": [
              "-0.21628767847699626"
            ]
          },
          "metadata": {
            "tags": []
          },
          "execution_count": 125
        }
      ]
    },
    {
      "cell_type": "code",
      "metadata": {
        "id": "JqBtfDbRSD3j",
        "colab_type": "code",
        "colab": {
          "base_uri": "https://localhost:8080/",
          "height": 34
        },
        "outputId": "3ffab0cc-a083-4709-d1d3-2f2db23d9129"
      },
      "source": [
        "df.Daily_Change.max()"
      ],
      "execution_count": null,
      "outputs": [
        {
          "output_type": "execute_result",
          "data": {
            "text/plain": [
              "0.3825910931174088"
            ]
          },
          "metadata": {
            "tags": []
          },
          "execution_count": 126
        }
      ]
    },
    {
      "cell_type": "code",
      "metadata": {
        "id": "qSnrNB1Mb88j",
        "colab_type": "code",
        "colab": {
          "base_uri": "https://localhost:8080/",
          "height": 285
        },
        "outputId": "1de5c8ea-e414-4002-e23e-77b13d8ba039"
      },
      "source": [
        "import seaborn as sns\n",
        "sns.set()\n",
        "df.Daily_Change.hist(bins=100)"
      ],
      "execution_count": null,
      "outputs": [
        {
          "output_type": "execute_result",
          "data": {
            "text/plain": [
              "<matplotlib.axes._subplots.AxesSubplot at 0x7f956677a128>"
            ]
          },
          "metadata": {
            "tags": []
          },
          "execution_count": 131
        },
        {
          "output_type": "display_data",
          "data": {
            "image/png": "[encoded data removed]",
            "text/plain": [
              "<Figure size 432x288 with 1 Axes>"
            ]
          },
          "metadata": {
            "tags": []
          }
        }
      ]
    },
    {
      "cell_type": "code",
      "metadata": {
        "id": "P7AOdjFQt9ww",
        "colab_type": "code",
        "colab": {
          "base_uri": "https://localhost:8080/",
          "height": 302
        },
        "outputId": "cedb2dd8-46bc-4d29-a6a4-aae8f4734a7c"
      },
      "source": [
        "df.Close.plot()"
      ],
      "execution_count": null,
      "outputs": [
        {
          "output_type": "execute_result",
          "data": {
            "text/plain": [
              "<matplotlib.axes._subplots.AxesSubplot at 0x7f9571cc87f0>"
            ]
          },
          "metadata": {
            "tags": []
          },
          "execution_count": 132
        },
        {
          "output_type": "display_data",
          "data": {
            "image/png": "[encoded data removed]",
            "text/plain": [
              "<Figure size 432x288 with 1 Axes>"
            ]
          },
          "metadata": {
            "tags": []
          }
        }
      ]
    },
    {
      "cell_type": "code",
      "metadata": {
        "id": "wAjTAPkEu58f",
        "colab_type": "code",
        "colab": {}
      },
      "source": [
        ""
      ],
      "execution_count": null,
      "outputs": []
    }
  ]
}