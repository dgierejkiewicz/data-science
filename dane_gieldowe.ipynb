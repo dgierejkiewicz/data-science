{
  "nbformat": 4,
  "nbformat_minor": 0,
  "metadata": {
    "colab": {
      "name": "dane_gieldowe.ipynb",
      "provenance": [],
      "authorship_tag": "ABX9TyM1NSnShLJ0yKKcpXS6qM9Y",
      "include_colab_link": true
    },
    "kernelspec": {
      "name": "python3",
      "display_name": "Python 3"
    }
  },
  "cells": [
    {
      "cell_type": "markdown",
      "metadata": {
        "id": "view-in-github",
        "colab_type": "text"
      },
      "source": [
        "<a href=\"https://colab.research.google.com/github/dgierejkiewicz/data-science/blob/master/dane_gieldowe.ipynb\" target=\"_parent\"><img src=\"https://colab.research.google.com/assets/colab-badge.svg\" alt=\"Open In Colab\"/></a>"
      ]
    },
    {
      "cell_type": "code",
      "metadata": {
        "id": "tKJhX4Irt2Nm",
        "colab_type": "code",
        "colab": {
          "base_uri": "https://localhost:8080/",
          "height": 52
        },
        "outputId": "06806260-f7fb-4940-8051-95e7ab24e082"
      },
      "source": [
        "import pandas as pd\n",
        "import numpy as np\n",
        "\n",
        "print(f'Numpy: {np.__version__}')\n",
        "print(f'Pandas: {pd.__version__}')"
      ],
      "execution_count": 2,
      "outputs": [
        {
          "output_type": "stream",
          "text": [
            "Numpy: 1.18.5\n",
            "Pandas: 1.0.5\n"
          ],
          "name": "stdout"
        }
      ]
    },
    {
      "cell_type": "code",
      "metadata": {
        "id": "0vz5AnTkuIOf",
        "colab_type": "code",
        "colab": {}
      },
      "source": [
        "def fetch_stock_data(company='AMZN')\n",
        "  \"\"\"Pobranie danych dotyczących notowań spółek na giełdzie wg symboli\n",
        "     w serwisie stooq.pl\"\"\" \n",
        "     "
      ],
      "execution_count": null,
      "outputs": []
    }
  ]
}