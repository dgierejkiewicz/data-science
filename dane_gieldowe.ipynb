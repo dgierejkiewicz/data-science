{
  "nbformat": 4,
  "nbformat_minor": 0,
  "metadata": {
    "colab": {
      "name": "dane_gieldowe.ipynb",
      "provenance": [],
      "authorship_tag": "ABX9TyNfn/+JTztCxclxC65NAoPk",
      "include_colab_link": true
    },
    "kernelspec": {
      "name": "python3",
      "display_name": "Python 3"
    }
  },
  "cells": [
    {
      "cell_type": "markdown",
      "metadata": {
        "id": "view-in-github",
        "colab_type": "text"
      },
      "source": [
        "<a href=\"https://colab.research.google.com/github/dgierejkiewicz/data-science/blob/master/dane_gieldowe.ipynb\" target=\"_parent\"><img src=\"https://colab.research.google.com/assets/colab-badge.svg\" alt=\"Open In Colab\"/></a>"
      ]
    },
    {
      "cell_type": "code",
      "metadata": {
        "id": "tKJhX4Irt2Nm",
        "colab_type": "code",
        "colab": {
          "base_uri": "https://localhost:8080/",
          "height": 52
        },
        "outputId": "06806260-f7fb-4940-8051-95e7ab24e082"
      },
      "source": [
        "import pandas as pd\n",
        "import numpy as np\n",
        "\n",
        "print(f'Numpy: {np.__version__}')\n",
        "print(f'Pandas: {pd.__version__}')"
      ],
      "execution_count": 2,
      "outputs": [
        {
          "output_type": "stream",
          "text": [
            "Numpy: 1.18.5\n",
            "Pandas: 1.0.5\n"
          ],
          "name": "stdout"
        }
      ]
    },
    {
      "cell_type": "code",
      "metadata": {
        "id": "0vz5AnTkuIOf",
        "colab_type": "code",
        "colab": {
          "base_uri": "https://localhost:8080/",
          "height": 312
        },
        "outputId": "ad65c67a-a728-4b90-f605-2c04780c43c3"
      },
      "source": [
        "def fetch_stock_data(company='AMZN'):\n",
        "  \"\"\"Pobranie danych dotyczących notowań spółek na giełdzie wg symboli\n",
        "  w serwisie stooq.pl\"\"\" \n",
        "  import pandas_datareader.data as web\n",
        "  return web.DataReader(name=company, data_source='stooq')\n",
        "df = fetch_stock_data()\n",
        "df.info"
      ],
      "execution_count": 9,
      "outputs": [
        {
          "output_type": "stream",
          "text": [
            "/usr/local/lib/python3.6/dist-packages/pandas_datareader/compat/__init__.py:7: FutureWarning: pandas.util.testing is deprecated. Use the functions in the public API at pandas.testing instead.\n",
            "  from pandas.util.testing import assert_frame_equal\n"
          ],
          "name": "stderr"
        },
        {
          "output_type": "execute_result",
          "data": {
            "text/plain": [
              "<bound method DataFrame.info of                Open       High      Low    Close   Volume\n",
              "Date                                                     \n",
              "2020-08-03  3180.51  3184.0000  3104.00  3111.89  5074663\n",
              "2020-07-31  3244.00  3246.8200  3151.00  3164.68  8083369\n",
              "2020-07-30  3014.00  3092.0000  3005.00  3051.88  6128265\n",
              "2020-07-29  3030.99  3039.1592  2996.77  3033.53  2974060\n",
              "2020-07-28  3054.27  3077.0926  2995.76  3000.33  3126651\n",
              "...             ...        ...      ...      ...      ...\n",
              "2015-08-12   523.75   527.5000   513.06   525.91  4014600\n",
              "2015-08-11   523.65   528.9800   522.00   527.46  2676051\n",
              "2015-08-10   528.52   532.2800   523.00   524.00  2615900\n",
              "2015-08-07   529.16   529.4600   518.21   522.62  3969200\n",
              "2015-08-06   539.30   542.7400   527.52   529.46  3817004\n",
              "\n",
              "[1257 rows x 5 columns]>"
            ]
          },
          "metadata": {
            "tags": []
          },
          "execution_count": 9
        }
      ]
    },
    {
      "cell_type": "code",
      "metadata": {
        "id": "iURWaWgMv5B0",
        "colab_type": "code",
        "colab": {}
      },
      "source": [
        ""
      ],
      "execution_count": null,
      "outputs": []
    }
  ]
}